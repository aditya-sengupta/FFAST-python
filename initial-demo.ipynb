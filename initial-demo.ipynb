{
 "cells": [
  {
   "cell_type": "markdown",
   "metadata": {},
   "source": [
    "# Aim\n",
    "\n",
    "Get FFAST working at a basic level (no noise, no window_var, etc.)."
   ]
  },
  {
   "cell_type": "code",
   "execution_count": 1,
   "metadata": {},
   "outputs": [
    {
     "name": "stdout",
     "output_type": "stream",
     "text": [
      "Running experiment mode (for now).\n",
      "Signal length: 124950\n",
      "Signal sparsity: 40\n",
      "Noiseless signal\n",
      "Random phase\n",
      "Delays: 2\n",
      "Bins: 34 49 75\n",
      "<===== NUMBER OF SAMPLES =====>\n",
      "312 -> used samples\n",
      "312\n",
      "124950\n",
      "0.24969987995198079\n",
      "0% samples touched\n",
      "<===== AVERAGE TIME (in milliseconds) =====>\n",
      "Total time: 3696\n",
      "Time per iteration:  369\n"
     ]
    }
   ],
   "source": [
    "from ffast_python import *\n",
    "%matplotlib inline\n",
    "main()"
   ]
  }
 ],
 "metadata": {
  "kernelspec": {
   "display_name": "Python 3",
   "language": "python",
   "name": "python3"
  },
  "language_info": {
   "codemirror_mode": {
    "name": "ipython",
    "version": 3
   },
   "file_extension": ".py",
   "mimetype": "text/x-python",
   "name": "python",
   "nbconvert_exporter": "python",
   "pygments_lexer": "ipython3",
   "version": "3.7.4"
  }
 },
 "nbformat": 4,
 "nbformat_minor": 2
}
