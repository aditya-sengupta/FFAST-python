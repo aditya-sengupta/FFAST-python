{
 "cells": [
  {
   "cell_type": "markdown",
   "metadata": {},
   "source": [
    "# Aim\n",
    "\n",
    "Get FFAST working at a basic level (no noise, no window_var, etc.)."
   ]
  },
  {
   "cell_type": "code",
   "execution_count": 1,
   "metadata": {},
   "outputs": [
    {
     "name": "stdout",
     "output_type": "stream",
     "text": [
      "Options file\n",
      "[4, 5, 7]\n",
      "0 1\n",
      "2\n",
      "Defining FFAST\n",
      "Defining frontend\n",
      "Processing input signal\n",
      "Starting generate_nonzero_freqs\n",
      "Frequencies to excite\n",
      "Starting f_to_t\n",
      "Scaling the FT\n",
      "Input signal\n",
      "[ 7.42312848+0.j          4.31721212-0.82269521j  2.71833033-4.45926263j\n",
      "  0.6441414 -2.88946692j -4.77419533-3.15275543j -4.77984777-3.22028419j\n",
      " -5.67070439+0.95669029j -5.82983082+0.93929331j -0.80689531+2.77683918j\n",
      "  0.53610751+5.14895181j  3.43368104+2.49795521j  6.79377851+2.97426831j\n",
      "  4.39891687+1.12066366j  4.40622472-2.89309426j  2.00632895-2.30423152j\n",
      " -2.94429139-4.68219144j -3.02301337-4.91169464j -5.53933693-1.46315952j\n",
      " -5.87310018-1.57776828j -2.02176746+2.01008922j -1.71830105+4.83886433j\n",
      "  1.95547494+3.59736368j  5.01647006+5.43454047j  3.62401714+2.95909458j\n",
      "  5.26973501-0.74275073j  2.96639848-1.12880997j -0.70928731-5.28782915j\n",
      " -0.71816716-5.71832817j -4.41898251-3.59814929j -4.84696506-3.94485359j\n",
      " -2.73174783+0.7728832j  -3.61154428+3.59756534j  0.19749721+3.93641448j\n",
      "  2.40339264+6.95857692j  2.10543786+4.32655471j  5.13436287+1.58564501j\n",
      "  3.28939108+0.39744117j  1.50354606-4.90992423j  1.71349407-5.49014049j\n",
      " -2.52439736-5.06418023j -2.89233252-5.71860394j -2.78013569-0.65127197j\n",
      " -4.7819059 +1.67168055j -1.48230575+3.48646384j -0.58822294+7.29087735j\n",
      "  0.10630214+4.93648917j  4.01510483+3.64917357j  2.8701655 +1.9508249j\n",
      "  3.29052022-3.67327188j  3.82586294-4.26856006j -0.20996568-5.60490531j\n",
      " -0.32786421-6.54956259j -2.15451056-1.93936376j -5.00829667-0.56189292j\n",
      " -2.75473095+2.37601661j -3.43848328+6.38723371j -2.00753647+4.64030043j\n",
      "  2.11436372+5.05231564j  1.7591383 +3.18901614j  4.34629968-1.85685627j\n",
      "  5.23133691-2.27946163j  2.09790233-5.13776022j  2.40426184-6.25029195j\n",
      " -0.98907731-2.79710538j -4.25223028-2.66860147j -3.38394408+0.86092609j\n",
      " -5.65802426+4.42084803j -3.83613029+3.4600607j  -0.21579299+5.52229686j\n",
      "  0.15659043+3.82210793j  4.5177531 +0.16474212j  5.67354476+0.10865539j\n",
      "  3.98106363-3.76685735j  4.8170797 -4.83472103j  0.46328998-3.02117018j\n",
      " -2.66478219-4.23977497j -3.27227953-0.73013742j -6.87493065+1.74912966j\n",
      " -5.0221833 +1.58862509j -2.53986551+4.96124632j -1.62389779+3.67469585j\n",
      "  3.82715082+1.99631153j  5.07556053+2.45350269j  5.10732096-1.76067703j\n",
      "  6.46769869-2.52075618j  1.88360607-2.54276776j -0.55722562-4.97110621j\n",
      " -2.47659905-2.06378186j -6.89955256-1.15245876j -5.32108479-0.64342598j\n",
      " -4.42106498+3.46525513j -3.21613041+2.72627583j  2.46103766+3.29858461j\n",
      "  3.55438827+4.32190247j  5.290832  +0.50080221j  7.03980952+0.30499494j\n",
      "  2.9532878 -1.44365441j  1.6590167 -4.72105604j -1.19330816-2.86980892j\n",
      " -5.75557861-3.77710549j -4.65051684-2.8281369j  -5.50377376+1.30672498j\n",
      " -4.27441368+1.12134787j  0.72777819+3.85165092j  1.39888391+5.37108114j\n",
      "  4.52403492+2.59913048j  6.40430287+3.15441818j  3.42114954+0.0588005j\n",
      "  3.55159964-3.53801145j  0.28462253-2.99535985j -3.67205199-5.67781627j\n",
      " -3.10970767-4.55656347j -5.58068834-1.11662316j -4.54473734-0.85350263j\n",
      " -1.00724457+3.593266j   -0.98477516+5.41294809j  2.97542723+4.15644561j\n",
      "  4.64637527+5.52496688j  3.15726463+1.65465865j  4.75048918-1.65100169j\n",
      "  1.62973242-2.43454292j -1.03828323-6.54628981j -0.96415604-5.49669112j\n",
      " -4.63194538-3.35638413j -3.91976232-2.82176876j -2.39564309+2.62521116j\n",
      " -3.14978069+4.44914988j  0.95411515+4.90545618j  2.05363419+6.99070936j\n",
      "  2.18264608+3.00407049j  5.01926373+0.57425171j  2.54858252-1.32775304j\n",
      "  1.66954764-6.26520876j  1.40172699-5.4579053j  -2.82887513-4.99758518j\n",
      " -2.46628348-4.38879336j -3.17457335+1.18720099j -4.69301862+2.67022548j\n",
      " -1.15161144+4.73716158j -0.93305962+7.28053348j]\n",
      "Input signal shape\n",
      "(140,)\n",
      "Input signal is-all-zero\n",
      "False\n",
      "Defining delays\n",
      "2\n",
      "Shape of obs matrix\n",
      "(2, 16)\n",
      "Defining backend\n",
      "Setting output signal on backend\n",
      "Running process\n",
      "Running experiment mode, rest of text to follow.\n",
      "Running iterations\n",
      "Running input\n",
      "Starting generate_nonzero_freqs\n",
      "Frequencies to excite\n",
      "Starting f_to_t\n",
      "Scaling the FT\n",
      "Running FFAST process\n",
      "[0 1]\n",
      "Stage sampling\n",
      "35\n",
      "Subsampled\n",
      "35\n",
      "35\n"
     ]
    },
    {
     "ename": "ValueError",
     "evalue": "index can't contain negative values",
     "output_type": "error",
     "traceback": [
      "\u001b[0;31m---------------------------------------------------------------------------\u001b[0m",
      "\u001b[0;31mValueError\u001b[0m                                Traceback (most recent call last)",
      "\u001b[0;32m<ipython-input-1-9942dbcc5b1d>\u001b[0m in \u001b[0;36m<module>\u001b[0;34m\u001b[0m\n\u001b[1;32m      1\u001b[0m \u001b[0;32mfrom\u001b[0m \u001b[0mffast_python\u001b[0m \u001b[0;32mimport\u001b[0m \u001b[0;34m*\u001b[0m\u001b[0;34m\u001b[0m\u001b[0;34m\u001b[0m\u001b[0m\n\u001b[1;32m      2\u001b[0m \u001b[0mget_ipython\u001b[0m\u001b[0;34m(\u001b[0m\u001b[0;34m)\u001b[0m\u001b[0;34m.\u001b[0m\u001b[0mrun_line_magic\u001b[0m\u001b[0;34m(\u001b[0m\u001b[0;34m'matplotlib'\u001b[0m\u001b[0;34m,\u001b[0m \u001b[0;34m'inline'\u001b[0m\u001b[0;34m)\u001b[0m\u001b[0;34m\u001b[0m\u001b[0;34m\u001b[0m\u001b[0m\n\u001b[0;32m----> 3\u001b[0;31m \u001b[0mmain\u001b[0m\u001b[0;34m(\u001b[0m\u001b[0;34m)\u001b[0m\u001b[0;34m\u001b[0m\u001b[0;34m\u001b[0m\u001b[0m\n\u001b[0m",
      "\u001b[0;32m~/projects/ffast-python/ffast_python/ffast.py\u001b[0m in \u001b[0;36mmain\u001b[0;34m()\u001b[0m\n\u001b[1;32m     82\u001b[0m             \u001b[0minput_signal\u001b[0m\u001b[0;34m.\u001b[0m\u001b[0mprocess\u001b[0m\u001b[0;34m(\u001b[0m\u001b[0;34m)\u001b[0m \u001b[0;31m# ffast.get_delays() in the CPP code as an argument\u001b[0m\u001b[0;34m\u001b[0m\u001b[0;34m\u001b[0m\u001b[0m\n\u001b[1;32m     83\u001b[0m             \u001b[0mprint\u001b[0m\u001b[0;34m(\u001b[0m\u001b[0;34m\"Running FFAST process\"\u001b[0m\u001b[0;34m)\u001b[0m\u001b[0;34m\u001b[0m\u001b[0;34m\u001b[0m\u001b[0m\n\u001b[0;32m---> 84\u001b[0;31m             \u001b[0mffast\u001b[0m\u001b[0;34m.\u001b[0m\u001b[0mprocess\u001b[0m\u001b[0;34m(\u001b[0m\u001b[0;34m)\u001b[0m\u001b[0;34m\u001b[0m\u001b[0;34m\u001b[0m\u001b[0m\n\u001b[0m\u001b[1;32m     85\u001b[0m             \u001b[0mprint\u001b[0m\u001b[0;34m(\u001b[0m\u001b[0;34m\"Running output\"\u001b[0m\u001b[0;34m)\u001b[0m\u001b[0;34m\u001b[0m\u001b[0;34m\u001b[0m\u001b[0m\n\u001b[1;32m     86\u001b[0m             \u001b[0moutput_signal\u001b[0m\u001b[0;34m.\u001b[0m\u001b[0mprocess\u001b[0m\u001b[0;34m(\u001b[0m\u001b[0;34m)\u001b[0m\u001b[0;34m\u001b[0m\u001b[0;34m\u001b[0m\u001b[0m\n",
      "\u001b[0;32m~/projects/ffast-python/ffast_python/ffast.py\u001b[0m in \u001b[0;36mprocess\u001b[0;34m(self)\u001b[0m\n\u001b[1;32m     21\u001b[0m     \u001b[0;32mdef\u001b[0m \u001b[0mprocess\u001b[0m\u001b[0;34m(\u001b[0m\u001b[0mself\u001b[0m\u001b[0;34m)\u001b[0m\u001b[0;34m:\u001b[0m\u001b[0;34m\u001b[0m\u001b[0;34m\u001b[0m\u001b[0m\n\u001b[1;32m     22\u001b[0m         \u001b[0mself\u001b[0m\u001b[0;34m.\u001b[0m\u001b[0miteration\u001b[0m \u001b[0;34m+=\u001b[0m \u001b[0;36m1\u001b[0m\u001b[0;34m\u001b[0m\u001b[0;34m\u001b[0m\u001b[0m\n\u001b[0;32m---> 23\u001b[0;31m         \u001b[0mself\u001b[0m\u001b[0;34m.\u001b[0m\u001b[0mfrontend\u001b[0m\u001b[0;34m.\u001b[0m\u001b[0mprocess\u001b[0m\u001b[0;34m(\u001b[0m\u001b[0;34m)\u001b[0m\u001b[0;34m\u001b[0m\u001b[0;34m\u001b[0m\u001b[0m\n\u001b[0m\u001b[1;32m     24\u001b[0m         \u001b[0mself\u001b[0m\u001b[0;34m.\u001b[0m\u001b[0mbackend\u001b[0m\u001b[0;34m.\u001b[0m\u001b[0mprocess\u001b[0m\u001b[0;34m(\u001b[0m\u001b[0;34m)\u001b[0m\u001b[0;34m\u001b[0m\u001b[0;34m\u001b[0m\u001b[0m\n\u001b[1;32m     25\u001b[0m \u001b[0;34m\u001b[0m\u001b[0m\n",
      "\u001b[0;32m~/projects/ffast-python/ffast_python/frontend.py\u001b[0m in \u001b[0;36mprocess\u001b[0;34m(self)\u001b[0m\n\u001b[1;32m     39\u001b[0m                 \u001b[0mtransformed\u001b[0m \u001b[0;34m=\u001b[0m \u001b[0mnp\u001b[0m\u001b[0;34m.\u001b[0m\u001b[0mfft\u001b[0m\u001b[0;34m.\u001b[0m\u001b[0mfft\u001b[0m\u001b[0;34m(\u001b[0m\u001b[0msubsampled_signal\u001b[0m\u001b[0;34m)\u001b[0m\u001b[0;34m\u001b[0m\u001b[0;34m\u001b[0m\u001b[0m\n\u001b[1;32m     40\u001b[0m                 \u001b[0mprint\u001b[0m\u001b[0;34m(\u001b[0m\u001b[0mlen\u001b[0m\u001b[0;34m(\u001b[0m\u001b[0mtransformed\u001b[0m\u001b[0;34m)\u001b[0m\u001b[0;34m)\u001b[0m\u001b[0;34m\u001b[0m\u001b[0;34m\u001b[0m\u001b[0m\n\u001b[0;32m---> 41\u001b[0;31m                 \u001b[0mself\u001b[0m\u001b[0;34m.\u001b[0m\u001b[0mobservation_matrix\u001b[0m\u001b[0;34m[\u001b[0m\u001b[0mi\u001b[0m\u001b[0;34m]\u001b[0m \u001b[0;34m=\u001b[0m \u001b[0mnp\u001b[0m\u001b[0;34m.\u001b[0m\u001b[0mpad\u001b[0m\u001b[0;34m(\u001b[0m\u001b[0mtransformed\u001b[0m\u001b[0;34m,\u001b[0m \u001b[0;34m(\u001b[0m\u001b[0;36m0\u001b[0m\u001b[0;34m,\u001b[0m \u001b[0msum\u001b[0m\u001b[0;34m(\u001b[0m\u001b[0mself\u001b[0m\u001b[0;34m.\u001b[0m\u001b[0mconfig\u001b[0m\u001b[0;34m.\u001b[0m\u001b[0mbins\u001b[0m\u001b[0;34m)\u001b[0m \u001b[0;34m-\u001b[0m \u001b[0mlen\u001b[0m\u001b[0;34m(\u001b[0m\u001b[0mtransformed\u001b[0m\u001b[0;34m)\u001b[0m\u001b[0;34m)\u001b[0m\u001b[0;34m,\u001b[0m \u001b[0;34m'constant'\u001b[0m\u001b[0;34m)\u001b[0m \u001b[0;34m/\u001b[0m \u001b[0mnp\u001b[0m\u001b[0;34m.\u001b[0m\u001b[0msqrt\u001b[0m\u001b[0;34m(\u001b[0m\u001b[0mself\u001b[0m\u001b[0;34m.\u001b[0m\u001b[0mconfig\u001b[0m\u001b[0;34m.\u001b[0m\u001b[0mbins\u001b[0m\u001b[0;34m[\u001b[0m\u001b[0mstage\u001b[0m\u001b[0;34m]\u001b[0m\u001b[0;34m)\u001b[0m\u001b[0;34m\u001b[0m\u001b[0;34m\u001b[0m\u001b[0m\n\u001b[0m\u001b[1;32m     42\u001b[0m         \u001b[0mself\u001b[0m\u001b[0;34m.\u001b[0m\u001b[0mcount_samples_done\u001b[0m \u001b[0;34m=\u001b[0m \u001b[0;32mTrue\u001b[0m\u001b[0;34m\u001b[0m\u001b[0;34m\u001b[0m\u001b[0m\n\u001b[1;32m     43\u001b[0m \u001b[0;34m\u001b[0m\u001b[0m\n",
      "\u001b[0;32m/usr/local/lib/python3.7/site-packages/numpy/lib/arraypad.py\u001b[0m in \u001b[0;36mpad\u001b[0;34m(array, pad_width, mode, **kwargs)\u001b[0m\n\u001b[1;32m   1170\u001b[0m \u001b[0;34m\u001b[0m\u001b[0m\n\u001b[1;32m   1171\u001b[0m     \u001b[0mnarray\u001b[0m \u001b[0;34m=\u001b[0m \u001b[0mnp\u001b[0m\u001b[0;34m.\u001b[0m\u001b[0marray\u001b[0m\u001b[0;34m(\u001b[0m\u001b[0marray\u001b[0m\u001b[0;34m)\u001b[0m\u001b[0;34m\u001b[0m\u001b[0;34m\u001b[0m\u001b[0m\n\u001b[0;32m-> 1172\u001b[0;31m     \u001b[0mpad_width\u001b[0m \u001b[0;34m=\u001b[0m \u001b[0m_as_pairs\u001b[0m\u001b[0;34m(\u001b[0m\u001b[0mpad_width\u001b[0m\u001b[0;34m,\u001b[0m \u001b[0mnarray\u001b[0m\u001b[0;34m.\u001b[0m\u001b[0mndim\u001b[0m\u001b[0;34m,\u001b[0m \u001b[0mas_index\u001b[0m\u001b[0;34m=\u001b[0m\u001b[0;32mTrue\u001b[0m\u001b[0;34m)\u001b[0m\u001b[0;34m\u001b[0m\u001b[0;34m\u001b[0m\u001b[0m\n\u001b[0m\u001b[1;32m   1173\u001b[0m \u001b[0;34m\u001b[0m\u001b[0m\n\u001b[1;32m   1174\u001b[0m     allowedkwargs = {\n",
      "\u001b[0;32m/usr/local/lib/python3.7/site-packages/numpy/lib/arraypad.py\u001b[0m in \u001b[0;36m_as_pairs\u001b[0;34m(x, ndim, as_index)\u001b[0m\n\u001b[1;32m    943\u001b[0m             \u001b[0mx\u001b[0m \u001b[0;34m=\u001b[0m \u001b[0mx\u001b[0m\u001b[0;34m.\u001b[0m\u001b[0mravel\u001b[0m\u001b[0;34m(\u001b[0m\u001b[0;34m)\u001b[0m  \u001b[0;31m# Ensure x[0], x[1] works\u001b[0m\u001b[0;34m\u001b[0m\u001b[0;34m\u001b[0m\u001b[0m\n\u001b[1;32m    944\u001b[0m             \u001b[0;32mif\u001b[0m \u001b[0mas_index\u001b[0m \u001b[0;32mand\u001b[0m \u001b[0;34m(\u001b[0m\u001b[0mx\u001b[0m\u001b[0;34m[\u001b[0m\u001b[0;36m0\u001b[0m\u001b[0;34m]\u001b[0m \u001b[0;34m<\u001b[0m \u001b[0;36m0\u001b[0m \u001b[0;32mor\u001b[0m \u001b[0mx\u001b[0m\u001b[0;34m[\u001b[0m\u001b[0;36m1\u001b[0m\u001b[0;34m]\u001b[0m \u001b[0;34m<\u001b[0m \u001b[0;36m0\u001b[0m\u001b[0;34m)\u001b[0m\u001b[0;34m:\u001b[0m\u001b[0;34m\u001b[0m\u001b[0;34m\u001b[0m\u001b[0m\n\u001b[0;32m--> 945\u001b[0;31m                 \u001b[0;32mraise\u001b[0m \u001b[0mValueError\u001b[0m\u001b[0;34m(\u001b[0m\u001b[0;34m\"index can't contain negative values\"\u001b[0m\u001b[0;34m)\u001b[0m\u001b[0;34m\u001b[0m\u001b[0;34m\u001b[0m\u001b[0m\n\u001b[0m\u001b[1;32m    946\u001b[0m             \u001b[0;32mreturn\u001b[0m \u001b[0;34m(\u001b[0m\u001b[0;34m(\u001b[0m\u001b[0mx\u001b[0m\u001b[0;34m[\u001b[0m\u001b[0;36m0\u001b[0m\u001b[0;34m]\u001b[0m\u001b[0;34m,\u001b[0m \u001b[0mx\u001b[0m\u001b[0;34m[\u001b[0m\u001b[0;36m1\u001b[0m\u001b[0;34m]\u001b[0m\u001b[0;34m)\u001b[0m\u001b[0;34m,\u001b[0m\u001b[0;34m)\u001b[0m \u001b[0;34m*\u001b[0m \u001b[0mndim\u001b[0m\u001b[0;34m\u001b[0m\u001b[0;34m\u001b[0m\u001b[0m\n\u001b[1;32m    947\u001b[0m \u001b[0;34m\u001b[0m\u001b[0m\n",
      "\u001b[0;31mValueError\u001b[0m: index can't contain negative values"
     ]
    }
   ],
   "source": [
    "from ffast_python import *\n",
    "%matplotlib inline\n",
    "main()"
   ]
  },
  {
   "cell_type": "markdown",
   "metadata": {},
   "source": [
    "inner product with adjoint and itself\n",
    "\n",
    "try 3.4.5 w/ sparsity 3, or 2.3.5 w/ sparsity 2"
   ]
  },
  {
   "cell_type": "code",
   "execution_count": null,
   "metadata": {},
   "outputs": [],
   "source": []
  }
 ],
 "metadata": {
  "kernelspec": {
   "display_name": "Python 3",
   "language": "python",
   "name": "python3"
  },
  "language_info": {
   "codemirror_mode": {
    "name": "ipython",
    "version": 3
   },
   "file_extension": ".py",
   "mimetype": "text/x-python",
   "name": "python",
   "nbconvert_exporter": "python",
   "pygments_lexer": "ipython3",
   "version": "3.7.4"
  }
 },
 "nbformat": 4,
 "nbformat_minor": 2
}
