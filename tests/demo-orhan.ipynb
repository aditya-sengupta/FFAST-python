{
 "cells": [
  {
   "cell_type": "markdown",
   "metadata": {},
   "source": [
    "# Aim\n",
    "\n",
    "Get FFAST working at a basic level (no noise, no window_var, etc.).\n",
    "\n",
    "- for reasonably high-snr like around 5db (without the bin-length gain) look at kay vs. kay2 my guess is kay will fail but kay2 will keep working.  how much db can you go lower with kay2. is kay2 alway better?\n",
    "- how does all this compare to \"new\" method?\n",
    "- keep an eye on the total number of samples used by each method."
   ]
  },
  {
   "cell_type": "code",
   "execution_count": 1,
   "metadata": {},
   "outputs": [],
   "source": [
    "%load_ext autoreload\n",
    "%autoreload 2\n",
    "\n",
    "from ffast_python import *\n",
    "from matplotlib import pyplot as plt\n",
    "import numpy as np\n",
    "import time\n",
    "\n",
    "from tqdm import tqdm_notebook as tqdm"
   ]
  },
  {
   "cell_type": "markdown",
   "metadata": {},
   "source": [
    "- making the seed of delays 0 makes the non-singleton locations pass the singleton test wrongly"
   ]
  },
  {
   "cell_type": "code",
   "execution_count": 49,
   "metadata": {},
   "outputs": [
    {
     "data": {
      "text/plain": [
       "343"
      ]
     },
     "execution_count": 49,
     "metadata": {},
     "output_type": "execute_result"
    }
   ],
   "source": [
    "7**3"
   ]
  },
  {
   "cell_type": "code",
   "execution_count": 51,
   "metadata": {},
   "outputs": [
    {
     "data": {
      "text/plain": [
       "361"
      ]
     },
     "execution_count": 51,
     "metadata": {},
     "output_type": "execute_result"
    }
   ],
   "source": [
    "19**2"
   ]
  },
  {
   "cell_type": "code",
   "execution_count": 33,
   "metadata": {},
   "outputs": [
    {
     "name": "stdout",
     "output_type": "stream",
     "text": [
      "[343, 361]\n",
      "16.917919793059983\n",
      "snr: -22.575072019056577\n"
     ]
    }
   ],
   "source": [
    "params = make_args()\n",
    "\n",
    "params.primes = [7, 19]\n",
    "params.prime_powers = [3, 2]\n",
    "\n",
    "params.bins = [i**j for i,j in zip(params.primes, params.prime_powers)]\n",
    "print(params.bins)\n",
    "\n",
    "params.length = np.prod(params.bins)\n",
    "print(np.log2(params.length))\n",
    "\n",
    "params.iterations = 50\n",
    "params.snr = 3 - 10*np.log10(params.bins[1])\n",
    "# params.snr = -22\n",
    "\n",
    "print('snr: {}'.format(params.snr))\n",
    "\n",
    "params.sparsity = 1\n",
    "\n",
    "# for ml\n",
    "# params.bin_processing_method = 'ml'\n",
    "# params.chains = 500\n",
    "# params.delays = 1\n",
    "\n",
    "# for kay\n",
    "# params.bin_processing_method = 'kay'\n",
    "params.bin_processing_method = 'kay2'\n",
    "params.chains = 16 # needs to be int(np.floor(np.log2(params.length))) [rounds down]\n",
    "params.delays = 3 # parameter to play with\n",
    "\n",
    "# for new\n",
    "# params.bin_processing_method = 'new'\n",
    "# params.chains = 1 # this is set to 1 always\n",
    "# params.delays = 1 # parameter to play with [the larger this value the larger the gap should be]\n",
    "\n",
    "\n",
    "\n",
    "config = Config(params)\n",
    "config.compute_params()\n",
    "\n",
    "input_signal = ExperimentInputSignal(config)\n",
    "input_signal.process()\n",
    "output_signal = ExperimentOutputSignal(config, input_signal)"
   ]
  },
  {
   "cell_type": "code",
   "execution_count": 34,
   "metadata": {},
   "outputs": [
    {
     "data": {
      "text/plain": [
       "177"
      ]
     },
     "execution_count": 34,
     "metadata": {},
     "output_type": "execute_result"
    }
   ],
   "source": [
    "np.sum(np.array(params.primes)*np.array(params.prime_powers))*params.delays"
   ]
  },
  {
   "cell_type": "code",
   "execution_count": 35,
   "metadata": {},
   "outputs": [
    {
     "data": {
      "text/plain": [
       "48"
      ]
     },
     "execution_count": 35,
     "metadata": {},
     "output_type": "execute_result"
    }
   ],
   "source": [
    "params.chains*params.delays"
   ]
  },
  {
   "cell_type": "code",
   "execution_count": 36,
   "metadata": {},
   "outputs": [
    {
     "data": {
      "text/plain": [
       "180.9285913394453"
      ]
     },
     "execution_count": 36,
     "metadata": {},
     "output_type": "execute_result"
    }
   ],
   "source": [
    "config.get_noise_sd()**2"
   ]
  },
  {
   "cell_type": "code",
   "execution_count": 37,
   "metadata": {},
   "outputs": [],
   "source": [
    "# vars(config)"
   ]
  },
  {
   "cell_type": "code",
   "execution_count": 38,
   "metadata": {},
   "outputs": [
    {
     "name": "stdout",
     "output_type": "stream",
     "text": [
      "Running experiment mode (for now)\n",
      "Signal length: 123823\n",
      "Signal sparsity: 1\n",
      "Signal-to-noise ratio (dB): -22\n",
      "Random phase\n",
      "Delays: 48\n",
      "Bins: 343 361\n",
      "Bin processor: kay2\n"
     ]
    }
   ],
   "source": [
    "config.display()"
   ]
  },
  {
   "cell_type": "code",
   "execution_count": 39,
   "metadata": {},
   "outputs": [],
   "source": [
    "# plt.plot(np.real(input_signal.time_signal))\n",
    "# plt.plot(np.imag(input_signal.time_signal))\n",
    "# plt.show()"
   ]
  },
  {
   "cell_type": "code",
   "execution_count": 40,
   "metadata": {},
   "outputs": [],
   "source": [
    "# len(input_signal.time_signal)"
   ]
  },
  {
   "cell_type": "code",
   "execution_count": 41,
   "metadata": {},
   "outputs": [],
   "source": [
    "# signal_fft = np.fft.fft(input_signal.time_signal)\n",
    "# plt.plot(np.abs(signal_fft))\n",
    "# plt.title('loc: {}'.format(input_signal.freqs))\n",
    "# plt.show()"
   ]
  },
  {
   "cell_type": "code",
   "execution_count": 42,
   "metadata": {},
   "outputs": [],
   "source": [
    "# input_signal.time_signal *= 2 # demonstrating that the input signal can be changed"
   ]
  },
  {
   "cell_type": "code",
   "execution_count": 43,
   "metadata": {},
   "outputs": [],
   "source": [
    "ffast = FFAST(config, input_signal, output_signal)"
   ]
  },
  {
   "cell_type": "code",
   "execution_count": 44,
   "metadata": {
    "scrolled": true
   },
   "outputs": [
    {
     "name": "stdout",
     "output_type": "stream",
     "text": [
      "0.24177253014383435\n"
     ]
    }
   ],
   "source": [
    "ffast.frontend.process()\n",
    "print(ffast.frontend.get_used_samples_nb()/ config.signal_length)"
   ]
  },
  {
   "cell_type": "code",
   "execution_count": 45,
   "metadata": {},
   "outputs": [
    {
     "data": {
      "text/plain": [
       "[343, 361]"
      ]
     },
     "execution_count": 45,
     "metadata": {},
     "output_type": "execute_result"
    }
   ],
   "source": [
    "params.bins"
   ]
  },
  {
   "cell_type": "code",
   "execution_count": 46,
   "metadata": {
    "scrolled": false
   },
   "outputs": [
    {
     "data": {
      "application/vnd.jupyter.widget-view+json": {
       "model_id": "996faad4400347c9b388046fd0eda4ca",
       "version_major": 2,
       "version_minor": 0
      },
      "text/plain": [
       "HBox(children=(IntProgress(value=0, max=50), HTML(value='')))"
      ]
     },
     "metadata": {},
     "output_type": "display_data"
    },
    {
     "name": "stdout",
     "output_type": "stream",
     "text": [
      "input freq: [80389]\n",
      "true singleton bins:\n",
      "    stage 0 bin 127\n",
      "    stage 1 bin 247\n",
      "found a singleton at 80389 -- stage 1 -- bin 247\n",
      "---\n",
      "input freq: [37106]\n",
      "true singleton bins:\n",
      "    stage 0 bin 62\n",
      "    stage 1 bin 284\n",
      "found a singleton at 37106 -- stage 1 -- bin 284\n",
      "---\n",
      "input freq: [101508]\n",
      "true singleton bins:\n",
      "    stage 0 bin 323\n",
      "    stage 1 bin 67\n",
      "found a singleton at 101508 -- stage 1 -- bin 67\n",
      "---\n",
      "input freq: [111452]\n",
      "true singleton bins:\n",
      "    stage 0 bin 320\n",
      "    stage 1 bin 264\n",
      "found a singleton at 111452 -- stage 0 -- bin 320\n",
      "---\n",
      "input freq: [66075]\n",
      "true singleton bins:\n",
      "    stage 0 bin 219\n",
      "    stage 1 bin 12\n",
      "---\n",
      "input freq: [14932]\n",
      "true singleton bins:\n",
      "    stage 0 bin 183\n",
      "    stage 1 bin 131\n",
      "found a singleton at 14932 -- stage 0 -- bin 183\n",
      "---\n",
      "input freq: [26561]\n",
      "true singleton bins:\n",
      "    stage 0 bin 150\n",
      "    stage 1 bin 208\n",
      "---\n",
      "input freq: [35083]\n",
      "true singleton bins:\n",
      "    stage 0 bin 97\n",
      "    stage 1 bin 66\n",
      "found a singleton at 35083 -- stage 0 -- bin 97\n",
      "---\n",
      "input freq: [47724]\n",
      "true singleton bins:\n",
      "    stage 0 bin 47\n",
      "    stage 1 bin 72\n",
      "---\n",
      "input freq: [83882]\n",
      "true singleton bins:\n",
      "    stage 0 bin 190\n",
      "    stage 1 bin 130\n",
      "found a singleton at 83882 -- stage 1 -- bin 130\n",
      "---\n",
      "input freq: [30042]\n",
      "true singleton bins:\n",
      "    stage 0 bin 201\n",
      "    stage 1 bin 79\n",
      "found a singleton at 30042 -- stage 0 -- bin 201\n",
      "---\n",
      "input freq: [15944]\n",
      "true singleton bins:\n",
      "    stage 0 bin 166\n",
      "    stage 1 bin 60\n",
      "---\n",
      "input freq: [28766]\n",
      "true singleton bins:\n",
      "    stage 0 bin 297\n",
      "    stage 1 bin 247\n",
      "found a singleton at 28766 -- stage 0 -- bin 297\n",
      "---\n",
      "input freq: [101043]\n",
      "true singleton bins:\n",
      "    stage 0 bin 201\n",
      "    stage 1 bin 324\n",
      "found a singleton at 101043 -- stage 0 -- bin 201\n",
      "---\n",
      "input freq: [123204]\n",
      "true singleton bins:\n",
      "    stage 0 bin 67\n",
      "    stage 1 bin 103\n",
      "found a singleton at 123204 -- stage 0 -- bin 67\n",
      "---\n",
      "input freq: [81442]\n",
      "true singleton bins:\n",
      "    stage 0 bin 151\n",
      "    stage 1 bin 217\n",
      "found a singleton at 81442 -- stage 1 -- bin 217\n",
      "---\n",
      "input freq: [15239]\n",
      "true singleton bins:\n",
      "    stage 0 bin 147\n",
      "    stage 1 bin 77\n",
      "found a singleton at 15239 -- stage 0 -- bin 147\n",
      "---\n",
      "input freq: [64472]\n",
      "true singleton bins:\n",
      "    stage 0 bin 331\n",
      "    stage 1 bin 214\n",
      "found a singleton at 64472 -- stage 0 -- bin 331\n",
      "---\n",
      "input freq: [61154]\n",
      "true singleton bins:\n",
      "    stage 0 bin 100\n",
      "    stage 1 bin 145\n",
      "found a singleton at 61154 -- stage 0 -- bin 100\n",
      "---\n",
      "input freq: [96197]\n",
      "true singleton bins:\n",
      "    stage 0 bin 157\n",
      "    stage 1 bin 171\n",
      "---\n",
      "input freq: [103607]\n",
      "true singleton bins:\n",
      "    stage 0 bin 21\n",
      "    stage 1 bin 0\n",
      "found a singleton at 103607 -- stage 0 -- bin 21\n",
      "---\n",
      "input freq: [120836]\n",
      "true singleton bins:\n",
      "    stage 0 bin 100\n",
      "    stage 1 bin 262\n",
      "---\n",
      "input freq: [4960]\n",
      "true singleton bins:\n",
      "    stage 0 bin 158\n",
      "    stage 1 bin 267\n",
      "found a singleton at 4960 -- stage 0 -- bin 158\n",
      "---\n",
      "input freq: [71416]\n",
      "true singleton bins:\n",
      "    stage 0 bin 72\n",
      "    stage 1 bin 299\n",
      "found a singleton at 71416 -- stage 0 -- bin 72\n",
      "---\n",
      "input freq: [77253]\n",
      "true singleton bins:\n",
      "    stage 0 bin 78\n",
      "    stage 1 bin 360\n",
      "found a singleton at 77253 -- stage 0 -- bin 78\n",
      "---\n",
      "input freq: [99489]\n",
      "true singleton bins:\n",
      "    stage 0 bin 19\n",
      "    stage 1 bin 214\n",
      "found a singleton at 99489 -- stage 0 -- bin 19\n",
      "---\n",
      "input freq: [89594]\n",
      "true singleton bins:\n",
      "    stage 0 bin 71\n",
      "    stage 1 bin 66\n",
      "found a singleton at 89594 -- stage 0 -- bin 71\n",
      "---\n",
      "input freq: [85867]\n",
      "true singleton bins:\n",
      "    stage 0 bin 117\n",
      "    stage 1 bin 310\n",
      "found a singleton at 85867 -- stage 0 -- bin 117\n",
      "---\n",
      "input freq: [64100]\n",
      "true singleton bins:\n",
      "    stage 0 bin 302\n",
      "    stage 1 bin 203\n",
      "found a singleton at 64100 -- stage 0 -- bin 302\n",
      "---\n",
      "input freq: [6413]\n",
      "true singleton bins:\n",
      "    stage 0 bin 239\n",
      "    stage 1 bin 276\n",
      "---\n",
      "input freq: [2002]\n",
      "true singleton bins:\n",
      "    stage 0 bin 287\n",
      "    stage 1 bin 197\n",
      "found a singleton at 2002 -- stage 0 -- bin 287\n",
      "---\n",
      "input freq: [26253]\n",
      "true singleton bins:\n",
      "    stage 0 bin 185\n",
      "    stage 1 bin 261\n",
      "found a singleton at 26253 -- stage 1 -- bin 261\n",
      "---\n",
      "input freq: [78047]\n",
      "true singleton bins:\n",
      "    stage 0 bin 186\n",
      "    stage 1 bin 71\n",
      "found a singleton at 78047 -- stage 0 -- bin 186\n",
      "---\n",
      "input freq: [53540]\n",
      "true singleton bins:\n",
      "    stage 0 bin 32\n",
      "    stage 1 bin 112\n",
      "found a singleton at 53540 -- stage 1 -- bin 112\n",
      "---\n",
      "input freq: [94012]\n",
      "true singleton bins:\n",
      "    stage 0 bin 30\n",
      "    stage 1 bin 152\n",
      "found a singleton at 94012 -- stage 1 -- bin 152\n",
      "---\n",
      "input freq: [73413]\n",
      "true singleton bins:\n",
      "    stage 0 bin 11\n",
      "    stage 1 bin 130\n",
      "---\n",
      "input freq: [85832]\n",
      "true singleton bins:\n",
      "    stage 0 bin 82\n",
      "    stage 1 bin 275\n",
      "---\n",
      "input freq: [71634]\n",
      "true singleton bins:\n",
      "    stage 0 bin 290\n",
      "    stage 1 bin 156\n",
      "found a singleton at 71634 -- stage 1 -- bin 156\n",
      "---\n",
      "input freq: [20358]\n",
      "true singleton bins:\n",
      "    stage 0 bin 121\n",
      "    stage 1 bin 142\n",
      "found a singleton at 20358 -- stage 0 -- bin 121\n",
      "---\n",
      "input freq: [42693]\n",
      "true singleton bins:\n",
      "    stage 0 bin 161\n",
      "    stage 1 bin 95\n",
      "found a singleton at 42693 -- stage 1 -- bin 95\n",
      "---\n",
      "input freq: [121529]\n",
      "true singleton bins:\n",
      "    stage 0 bin 107\n",
      "    stage 1 bin 233\n",
      "found a singleton at 121529 -- stage 0 -- bin 107\n",
      "---\n",
      "input freq: [116768]\n",
      "true singleton bins:\n",
      "    stage 0 bin 148\n",
      "    stage 1 bin 165\n",
      "found a singleton at 116768 -- stage 1 -- bin 165\n",
      "---\n",
      "input freq: [86418]\n",
      "true singleton bins:\n",
      "    stage 0 bin 325\n",
      "    stage 1 bin 139\n",
      "found a singleton at 86418 -- stage 1 -- bin 139\n",
      "---\n",
      "input freq: [109940]\n",
      "true singleton bins:\n",
      "    stage 0 bin 180\n",
      "    stage 1 bin 196\n",
      "found a singleton at 109940 -- stage 1 -- bin 196\n",
      "---\n",
      "input freq: [60776]\n",
      "true singleton bins:\n",
      "    stage 0 bin 65\n",
      "    stage 1 bin 128\n",
      "found a singleton at 60776 -- stage 0 -- bin 65\n",
      "---\n",
      "input freq: [114447]\n",
      "true singleton bins:\n",
      "    stage 0 bin 228\n",
      "    stage 1 bin 10\n",
      "found a singleton at 114447 -- stage 0 -- bin 228\n",
      "---\n",
      "input freq: [25782]\n",
      "true singleton bins:\n",
      "    stage 0 bin 57\n",
      "    stage 1 bin 151\n",
      "found a singleton at 25782 -- stage 0 -- bin 57\n",
      "---\n",
      "input freq: [53340]\n",
      "true singleton bins:\n",
      "    stage 0 bin 175\n",
      "    stage 1 bin 273\n",
      "---\n",
      "input freq: [44010]\n",
      "true singleton bins:\n",
      "    stage 0 bin 106\n",
      "    stage 1 bin 329\n",
      "found a singleton at 44010 -- stage 0 -- bin 106\n",
      "---\n",
      "input freq: [17647]\n",
      "true singleton bins:\n",
      "    stage 0 bin 154\n",
      "    stage 1 bin 319\n",
      "found a singleton at 17647 -- stage 1 -- bin 319\n",
      "---\n",
      "\n",
      "Running experiment mode (for now)\n",
      "Signal length: 123823\n",
      "Signal sparsity: 1\n",
      "Signal-to-noise ratio (dB): -22\n",
      "Random phase\n",
      "Delays: 48\n",
      "Bins: 343 361\n",
      "Bin processor: kay2\n",
      "<===== NUMBER OF SAMPLES =====>\n",
      "29059 -> used samples\n",
      "23.47% samples touched\n",
      "<===== AVERAGE TIME (in milliseconds) =====>\n",
      "Total time: 74291\n",
      "Time per iteration:  1485\n"
     ]
    }
   ],
   "source": [
    "ffast = FFAST(config, input_signal, output_signal)\n",
    "\n",
    "if not config.help_displayed:\n",
    "    # this disregards the time to make the signal\n",
    "    time_initial = int(np.round(time.time() * 1000)) \n",
    "\n",
    "    iterations = config.iterations\n",
    "    \n",
    "    for i in tqdm(range(iterations)):\n",
    "        input_signal.process() # ffast.get_delays() in the CPP code as an argument\n",
    "        print('input freq: {}'.format(input_signal.freqs))\n",
    "        \n",
    "        print('true singleton bins:')\n",
    "        for stage_idx, bin_size in enumerate(params.bins):\n",
    "            print('    stage {} bin {}'.format(stage_idx, input_signal.freqs[0] % bin_size))\n",
    "        \n",
    "        ffast.process()\n",
    "        output_signal.process()\n",
    "        print('---')\n",
    "\n",
    "    time_final = int(np.round(time.time() * 1000))\n",
    "\n",
    "    ffast.display_results(time_final - time_initial)"
   ]
  },
  {
   "cell_type": "code",
   "execution_count": 47,
   "metadata": {},
   "outputs": [
    {
     "data": {
      "text/plain": [
       "0.8"
      ]
     },
     "execution_count": 47,
     "metadata": {},
     "output_type": "execute_result"
    }
   ],
   "source": [
    "output_signal.statistics()[0]/params.iterations"
   ]
  },
  {
   "cell_type": "code",
   "execution_count": 48,
   "metadata": {},
   "outputs": [
    {
     "ename": "NameError",
     "evalue": "name 'asdfasdf' is not defined",
     "output_type": "error",
     "traceback": [
      "\u001b[0;31m---------------------------------------------------------------------------\u001b[0m",
      "\u001b[0;31mNameError\u001b[0m                                 Traceback (most recent call last)",
      "\u001b[0;32m<ipython-input-48-0edfd414c0ea>\u001b[0m in \u001b[0;36m<module>\u001b[0;34m()\u001b[0m\n\u001b[0;32m----> 1\u001b[0;31m \u001b[0masdfasdf\u001b[0m\u001b[0;34m\u001b[0m\u001b[0m\n\u001b[0m",
      "\u001b[0;31mNameError\u001b[0m: name 'asdfasdf' is not defined"
     ]
    }
   ],
   "source": [
    "asdfasdf"
   ]
  },
  {
   "cell_type": "markdown",
   "metadata": {},
   "source": [
    "# this part is for debugging"
   ]
  },
  {
   "cell_type": "code",
   "execution_count": null,
   "metadata": {},
   "outputs": [],
   "source": [
    "vars(ffast.config)"
   ]
  },
  {
   "cell_type": "code",
   "execution_count": null,
   "metadata": {},
   "outputs": [],
   "source": [
    "def test_many(f, num_iter, **kwargs):\n",
    "    r = []\n",
    "    for i in tqdm(range(num_iter)):\n",
    "        r.append(f(**kwargs))\n",
    "    return r"
   ]
  },
  {
   "cell_type": "code",
   "execution_count": null,
   "metadata": {},
   "outputs": [],
   "source": [
    "def test_if_location_is_true(stage_idx):\n",
    "    input_signal.process()\n",
    "    ffast.frontend.process()\n",
    "    singleton_bin = input_signal.freqs[0] % params.bins[stage_idx]\n",
    "    binprocessor = BinProcessor(config, ffast.frontend.delays, ffast.frontend.observation_matrix)\n",
    "    \n",
    "    binprocessor.adjust_to(config.bin_offsets[stage_idx]+singleton_bin, singleton_bin, stage_idx)\n",
    "    binprocessor.process()\n",
    "    loc_hat = binprocessor.location\n",
    "    loc = input_signal.freqs[0]\n",
    "    if loc_hat == loc:\n",
    "        return True\n",
    "    else:\n",
    "        return False"
   ]
  },
  {
   "cell_type": "code",
   "execution_count": null,
   "metadata": {},
   "outputs": [],
   "source": [
    "results_of_location_estimation = test_many(test_if_location_is_true, 100, stage_idx=0)\n",
    "print('location identification accuracy: {}'.format(np.mean(results_of_location_estimation)))"
   ]
  },
  {
   "cell_type": "code",
   "execution_count": null,
   "metadata": {},
   "outputs": [],
   "source": [
    "input_signal.process() # ffast.get_delays() in the CPP code as an argument\n",
    "print(\"true frequencies: {}\".format(input_signal.freqs))\n",
    "\n",
    "ffast.frontend.process()\n",
    "# ffast.backend.process()\n",
    "# output_signal.process()"
   ]
  },
  {
   "cell_type": "code",
   "execution_count": null,
   "metadata": {
    "scrolled": true
   },
   "outputs": [],
   "source": [
    "# plt.stem(np.linalg.norm(ffast.frontend.observation_matrix, axis=0)**2/ffast.config.delays_nb)\n",
    "# plt.xlabel('bin absolute index')\n",
    "# plt.show()"
   ]
  },
  {
   "cell_type": "code",
   "execution_count": null,
   "metadata": {},
   "outputs": [],
   "source": [
    "singleton_bin = input_signal.freqs[0] % params.bins[0]\n",
    "print(singleton_bin)"
   ]
  },
  {
   "cell_type": "code",
   "execution_count": null,
   "metadata": {},
   "outputs": [],
   "source": [
    "binprocessor = BinProcessor(config, ffast.frontend.delays, ffast.frontend.observation_matrix)"
   ]
  },
  {
   "cell_type": "code",
   "execution_count": null,
   "metadata": {},
   "outputs": [],
   "source": [
    "# plt.stem(np.linalg.norm(ffast.frontend.observation_matrix, axis=0)**2/ffast.config.delays_nb)\n",
    "# plt.axhline(binprocessor.thresholds[0])\n",
    "# plt.xlabel('bin absolute index')\n",
    "# plt.show()"
   ]
  },
  {
   "cell_type": "code",
   "execution_count": null,
   "metadata": {},
   "outputs": [],
   "source": [
    "binprocessor.adjust_to(singleton_bin, singleton_bin, 0)"
   ]
  },
  {
   "cell_type": "code",
   "execution_count": null,
   "metadata": {},
   "outputs": [],
   "source": [
    "binprocessor.is_zeroton()"
   ]
  },
  {
   "cell_type": "code",
   "execution_count": null,
   "metadata": {},
   "outputs": [],
   "source": [
    "binprocessor.process()"
   ]
  },
  {
   "cell_type": "code",
   "execution_count": null,
   "metadata": {},
   "outputs": [],
   "source": [
    "# binprocessor.find_location_new()\n",
    "print(binprocessor.location)\n",
    "print(input_signal.freqs)"
   ]
  },
  {
   "cell_type": "code",
   "execution_count": null,
   "metadata": {},
   "outputs": [],
   "source": [
    "binprocessor.is_singleton()"
   ]
  },
  {
   "cell_type": "code",
   "execution_count": null,
   "metadata": {
    "scrolled": true
   },
   "outputs": [],
   "source": [
    "binprocessor.location"
   ]
  },
  {
   "cell_type": "code",
   "execution_count": null,
   "metadata": {},
   "outputs": [],
   "source": [
    "binprocessor.amplitude"
   ]
  },
  {
   "cell_type": "code",
   "execution_count": null,
   "metadata": {},
   "outputs": [],
   "source": [
    "binprocessor.noise"
   ]
  },
  {
   "cell_type": "code",
   "execution_count": null,
   "metadata": {},
   "outputs": [],
   "source": [
    "binprocessor.thresholds[0]"
   ]
  },
  {
   "cell_type": "code",
   "execution_count": null,
   "metadata": {},
   "outputs": [],
   "source": [
    "binprocessor.minimum_energy"
   ]
  },
  {
   "cell_type": "code",
   "execution_count": null,
   "metadata": {},
   "outputs": [],
   "source": []
  },
  {
   "cell_type": "code",
   "execution_count": null,
   "metadata": {},
   "outputs": [],
   "source": [
    "ffast.backend.decoded_frequencies"
   ]
  },
  {
   "cell_type": "code",
   "execution_count": null,
   "metadata": {},
   "outputs": [],
   "source": [
    "output_signal.check_full_recovery()"
   ]
  },
  {
   "cell_type": "code",
   "execution_count": null,
   "metadata": {},
   "outputs": [],
   "source": [
    "output_signal.statistics()"
   ]
  },
  {
   "cell_type": "code",
   "execution_count": null,
   "metadata": {},
   "outputs": [],
   "source": [
    "ffast = FFAST(config, input_signal, output_signal)"
   ]
  },
  {
   "cell_type": "code",
   "execution_count": null,
   "metadata": {},
   "outputs": [],
   "source": [
    "input_signal.process() # ffast.get_delays() in the CPP code as an argument\n",
    "print(input_signal.freqs)"
   ]
  },
  {
   "cell_type": "code",
   "execution_count": null,
   "metadata": {
    "scrolled": true
   },
   "outputs": [],
   "source": [
    "ffast.process()"
   ]
  },
  {
   "cell_type": "code",
   "execution_count": null,
   "metadata": {},
   "outputs": [],
   "source": [
    "output_signal.process()"
   ]
  },
  {
   "cell_type": "code",
   "execution_count": null,
   "metadata": {},
   "outputs": [],
   "source": [
    "output_signal.statistics()"
   ]
  },
  {
   "cell_type": "code",
   "execution_count": null,
   "metadata": {},
   "outputs": [],
   "source": []
  },
  {
   "cell_type": "code",
   "execution_count": null,
   "metadata": {},
   "outputs": [],
   "source": []
  },
  {
   "cell_type": "code",
   "execution_count": null,
   "metadata": {},
   "outputs": [],
   "source": []
  },
  {
   "cell_type": "code",
   "execution_count": null,
   "metadata": {},
   "outputs": [],
   "source": []
  }
 ],
 "metadata": {
  "kernelspec": {
   "display_name": "Python 3",
   "language": "python",
   "name": "python3"
  },
  "language_info": {
   "codemirror_mode": {
    "name": "ipython",
    "version": 3
   },
   "file_extension": ".py",
   "mimetype": "text/x-python",
   "name": "python",
   "nbconvert_exporter": "python",
   "pygments_lexer": "ipython3",
   "version": "3.5.6"
  }
 },
 "nbformat": 4,
 "nbformat_minor": 2
}
