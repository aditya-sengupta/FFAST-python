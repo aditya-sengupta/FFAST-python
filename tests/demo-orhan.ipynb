{
 "cells": [
  {
   "cell_type": "markdown",
   "metadata": {},
   "source": [
    "# Aim\n",
    "\n",
    "Get FFAST working at a basic level (no noise, no window_var, etc.).\n",
    "\n",
    "- for reasonably high-snr like around 5db (without the bin-length gain) look at kay vs. kay2 my guess is kay will fail but kay2 will keep working.  how much db can you go lower with kay2. is kay2 alway better?\n",
    "- how does all this compare to \"new\" method?\n",
    "- keep an eye on the total number of samples used by each method."
   ]
  },
  {
   "cell_type": "code",
   "execution_count": 1,
   "metadata": {},
   "outputs": [],
   "source": [
    "%load_ext autoreload\n",
    "%autoreload 2\n",
    "\n",
    "import sys\n",
    "sys.path.append(\"..\")\n",
    "from ffast import *\n",
    "from matplotlib import pyplot as plt\n",
    "import numpy as np\n",
    "import time\n",
    "\n",
    "from tqdm import tqdm_notebook as tqdm"
   ]
  },
  {
   "cell_type": "markdown",
   "metadata": {},
   "source": [
    "- making the seed of delays 0 makes the non-singleton locations pass the singleton test wrongly"
   ]
  },
  {
   "cell_type": "code",
   "execution_count": 2,
   "metadata": {},
   "outputs": [
    {
     "data": {
      "text/plain": [
       "343"
      ]
     },
     "execution_count": 2,
     "metadata": {},
     "output_type": "execute_result"
    }
   ],
   "source": [
    "7**3"
   ]
  },
  {
   "cell_type": "code",
   "execution_count": 3,
   "metadata": {},
   "outputs": [
    {
     "data": {
      "text/plain": [
       "361"
      ]
     },
     "execution_count": 3,
     "metadata": {},
     "output_type": "execute_result"
    }
   ],
   "source": [
    "19**2"
   ]
  },
  {
   "cell_type": "code",
   "execution_count": 22,
   "metadata": {},
   "outputs": [
    {
     "name": "stdout",
     "output_type": "stream",
     "text": [
      "[343, 361]\n",
      "16.917919793059983\n",
      "snr: -19.575072019056577\n"
     ]
    }
   ],
   "source": [
    "params = make_args()\n",
    "\n",
    "params.primes = [7, 19]\n",
    "params.prime_powers = [3, 2]\n",
    "\n",
    "params.bins = [i**j for i,j in zip(params.primes, params.prime_powers)]\n",
    "print(params.bins)\n",
    "\n",
    "params.length = np.prod(params.bins)\n",
    "print(np.log2(params.length))\n",
    "\n",
    "params.iterations = 50\n",
    "params.snr = 6 - 10*np.log10(params.bins[1])\n",
    "# params.snr = -22\n",
    "\n",
    "print('snr: {}'.format(params.snr))\n",
    "\n",
    "params.sparsity = 1\n",
    "\n",
    "# for ml\n",
    "# params.bin_processing_method = 'ml'\n",
    "# params.chains = 500\n",
    "# params.delays = 1\n",
    "\n",
    "# for kay\n",
    "# params.bin_processing_method = 'kay'\n",
    "params.bin_processing_method = 'kay2'\n",
    "params.chains = 16 # needs to be int(np.floor(np.log2(params.length))) [rounds down]\n",
    "params.delays = 3 # parameter to play with\n",
    "\n",
    "# for new\n",
    "# params.bin_processing_method = 'new'\n",
    "# params.chains = 1 # this is set to 1 always\n",
    "# params.delays = 1 # parameter to play with [the larger this value the larger the gap should be]\n",
    "\n",
    "\n",
    "\n",
    "config = Config(params)\n",
    "config.compute_params()\n",
    "\n",
    "input_signal = ExperimentInputSignal(config)\n",
    "input_signal.process()\n",
    "output_signal = ExperimentOutputSignal(config, input_signal)"
   ]
  },
  {
   "cell_type": "code",
   "execution_count": 15,
   "metadata": {},
   "outputs": [
    {
     "data": {
      "text/plain": [
       "177"
      ]
     },
     "execution_count": 15,
     "metadata": {},
     "output_type": "execute_result"
    }
   ],
   "source": [
    "np.sum(np.array(params.primes)*np.array(params.prime_powers))*params.delays"
   ]
  },
  {
   "cell_type": "code",
   "execution_count": 16,
   "metadata": {},
   "outputs": [
    {
     "data": {
      "text/plain": [
       "48"
      ]
     },
     "execution_count": 16,
     "metadata": {},
     "output_type": "execute_result"
    }
   ],
   "source": [
    "params.chains*params.delays"
   ]
  },
  {
   "cell_type": "code",
   "execution_count": 17,
   "metadata": {},
   "outputs": [
    {
     "data": {
      "text/plain": [
       "1141.5822353207843"
      ]
     },
     "execution_count": 17,
     "metadata": {},
     "output_type": "execute_result"
    }
   ],
   "source": [
    "config.get_noise_sd()**2"
   ]
  },
  {
   "cell_type": "code",
   "execution_count": 8,
   "metadata": {},
   "outputs": [],
   "source": [
    "# vars(config)"
   ]
  },
  {
   "cell_type": "code",
   "execution_count": 18,
   "metadata": {},
   "outputs": [
    {
     "name": "stdout",
     "output_type": "stream",
     "text": [
      "Running experiment mode (for now)\n",
      "Signal length: 123823\n",
      "Signal sparsity: 1\n",
      "Signal-to-noise ratio (dB): -30\n",
      "Random phase\n",
      "Delays: 48\n",
      "Bins: 343 361\n",
      "Bin processor: kay2\n"
     ]
    }
   ],
   "source": [
    "config.display()"
   ]
  },
  {
   "cell_type": "code",
   "execution_count": 19,
   "metadata": {},
   "outputs": [],
   "source": [
    "# plt.plot(np.real(input_signal.time_signal))\n",
    "# plt.plot(np.imag(input_signal.time_signal))\n",
    "# plt.show()"
   ]
  },
  {
   "cell_type": "code",
   "execution_count": 11,
   "metadata": {},
   "outputs": [],
   "source": [
    "# len(input_signal.time_signal)"
   ]
  },
  {
   "cell_type": "code",
   "execution_count": 12,
   "metadata": {},
   "outputs": [],
   "source": [
    "# signal_fft = np.fft.fft(input_signal.time_signal)\n",
    "# plt.plot(np.abs(signal_fft))\n",
    "# plt.title('loc: {}'.format(input_signal.freqs))\n",
    "# plt.show()"
   ]
  },
  {
   "cell_type": "code",
   "execution_count": 13,
   "metadata": {},
   "outputs": [],
   "source": [
    "# input_signal.time_signal *= 2 # demonstrating that the input signal can be changed"
   ]
  },
  {
   "cell_type": "code",
   "execution_count": 8,
   "metadata": {},
   "outputs": [],
   "source": [
    "ffast = FFAST(config, input_signal, output_signal)"
   ]
  },
  {
   "cell_type": "code",
   "execution_count": 9,
   "metadata": {
    "scrolled": true
   },
   "outputs": [
    {
     "name": "stdout",
     "output_type": "stream",
     "text": [
      "0.22986844124274167\n"
     ]
    }
   ],
   "source": [
    "ffast.frontend.process()\n",
    "print(ffast.frontend.get_used_samples_nb()/ config.signal_length)"
   ]
  },
  {
   "cell_type": "code",
   "execution_count": 10,
   "metadata": {},
   "outputs": [
    {
     "data": {
      "text/plain": [
       "[343, 361]"
      ]
     },
     "execution_count": 10,
     "metadata": {},
     "output_type": "execute_result"
    }
   ],
   "source": [
    "params.bins"
   ]
  },
  {
   "cell_type": "code",
   "execution_count": 23,
   "metadata": {
    "scrolled": false
   },
   "outputs": [
    {
     "data": {
      "application/vnd.jupyter.widget-view+json": {
       "model_id": "a61a37a8302344959405329752ff89f0",
       "version_major": 2,
       "version_minor": 0
      },
      "text/plain": [
       "HBox(children=(IntProgress(value=0, max=50), HTML(value='')))"
      ]
     },
     "metadata": {},
     "output_type": "display_data"
    },
    {
     "name": "stdout",
     "output_type": "stream",
     "text": [
      "input freq: [42011]\n",
      "true singleton bins:\n",
      "    stage 0 bin 165\n",
      "    stage 1 bin 135\n",
      "---\n",
      "input freq: [110046]\n",
      "true singleton bins:\n",
      "    stage 0 bin 286\n",
      "    stage 1 bin 302\n",
      "---\n",
      "input freq: [42980]\n",
      "true singleton bins:\n",
      "    stage 0 bin 105\n",
      "    stage 1 bin 21\n",
      "---\n",
      "input freq: [62461]\n",
      "true singleton bins:\n",
      "    stage 0 bin 35\n",
      "    stage 1 bin 8\n",
      "---\n",
      "input freq: [32302]\n",
      "true singleton bins:\n",
      "    stage 0 bin 60\n",
      "    stage 1 bin 173\n",
      "---\n",
      "input freq: [48506]\n",
      "true singleton bins:\n",
      "    stage 0 bin 143\n",
      "    stage 1 bin 132\n",
      "---\n",
      "input freq: [20891]\n",
      "true singleton bins:\n",
      "    stage 0 bin 311\n",
      "    stage 1 bin 314\n",
      "---\n",
      "input freq: [121148]\n",
      "true singleton bins:\n",
      "    stage 0 bin 69\n",
      "    stage 1 bin 213\n",
      "---\n",
      "input freq: [114149]\n",
      "true singleton bins:\n",
      "    stage 0 bin 273\n",
      "    stage 1 bin 73\n",
      "---\n",
      "input freq: [88633]\n",
      "true singleton bins:\n",
      "    stage 0 bin 139\n",
      "    stage 1 bin 188\n",
      "---\n",
      "input freq: [58287]\n",
      "true singleton bins:\n",
      "    stage 0 bin 320\n",
      "    stage 1 bin 166\n",
      "---\n",
      "input freq: [14545]\n",
      "true singleton bins:\n",
      "    stage 0 bin 139\n",
      "    stage 1 bin 105\n",
      "---\n",
      "input freq: [45459]\n",
      "true singleton bins:\n",
      "    stage 0 bin 183\n",
      "    stage 1 bin 334\n",
      "---\n",
      "input freq: [29304]\n",
      "true singleton bins:\n",
      "    stage 0 bin 149\n",
      "    stage 1 bin 63\n",
      "---\n",
      "input freq: [80972]\n",
      "true singleton bins:\n",
      "    stage 0 bin 24\n",
      "    stage 1 bin 108\n",
      "---\n",
      "input freq: [78692]\n",
      "true singleton bins:\n",
      "    stage 0 bin 145\n",
      "    stage 1 bin 355\n",
      "---\n",
      "input freq: [79144]\n",
      "true singleton bins:\n",
      "    stage 0 bin 254\n",
      "    stage 1 bin 85\n",
      "---\n",
      "input freq: [95324]\n",
      "true singleton bins:\n",
      "    stage 0 bin 313\n",
      "    stage 1 bin 20\n",
      "---\n",
      "input freq: [88981]\n",
      "true singleton bins:\n",
      "    stage 0 bin 144\n",
      "    stage 1 bin 175\n",
      "---\n",
      "input freq: [68399]\n",
      "true singleton bins:\n",
      "    stage 0 bin 142\n",
      "    stage 1 bin 170\n",
      "---\n",
      "input freq: [110756]\n",
      "true singleton bins:\n",
      "    stage 0 bin 310\n",
      "    stage 1 bin 290\n",
      "---\n",
      "input freq: [37835]\n",
      "true singleton bins:\n",
      "    stage 0 bin 105\n",
      "    stage 1 bin 291\n",
      "---\n",
      "input freq: [28054]\n",
      "true singleton bins:\n",
      "    stage 0 bin 271\n",
      "    stage 1 bin 257\n",
      "---\n",
      "input freq: [11213]\n",
      "true singleton bins:\n",
      "    stage 0 bin 237\n",
      "    stage 1 bin 22\n",
      "---\n",
      "input freq: [110957]\n",
      "true singleton bins:\n",
      "    stage 0 bin 168\n",
      "    stage 1 bin 130\n",
      "---\n",
      "input freq: [1193]\n",
      "true singleton bins:\n",
      "    stage 0 bin 164\n",
      "    stage 1 bin 110\n",
      "---\n",
      "input freq: [14149]\n",
      "true singleton bins:\n",
      "    stage 0 bin 86\n",
      "    stage 1 bin 70\n",
      "---\n",
      "input freq: [107313]\n",
      "true singleton bins:\n",
      "    stage 0 bin 297\n",
      "    stage 1 bin 96\n",
      "---\n",
      "input freq: [121303]\n",
      "true singleton bins:\n",
      "    stage 0 bin 224\n",
      "    stage 1 bin 7\n",
      "---\n",
      "input freq: [75955]\n",
      "true singleton bins:\n",
      "    stage 0 bin 152\n",
      "    stage 1 bin 145\n",
      "---\n",
      "input freq: [22816]\n",
      "true singleton bins:\n",
      "    stage 0 bin 178\n",
      "    stage 1 bin 73\n",
      "---\n",
      "input freq: [90430]\n",
      "true singleton bins:\n",
      "    stage 0 bin 221\n",
      "    stage 1 bin 180\n",
      "---\n",
      "input freq: [70065]\n",
      "true singleton bins:\n",
      "    stage 0 bin 93\n",
      "    stage 1 bin 31\n",
      "---\n",
      "input freq: [107354]\n",
      "true singleton bins:\n",
      "    stage 0 bin 338\n",
      "    stage 1 bin 137\n",
      "---\n",
      "input freq: [5072]\n",
      "true singleton bins:\n",
      "    stage 0 bin 270\n",
      "    stage 1 bin 18\n",
      "---\n",
      "input freq: [84826]\n",
      "true singleton bins:\n",
      "    stage 0 bin 105\n",
      "    stage 1 bin 352\n",
      "---\n",
      "input freq: [80130]\n",
      "true singleton bins:\n",
      "    stage 0 bin 211\n",
      "    stage 1 bin 349\n",
      "---\n",
      "input freq: [64515]\n",
      "true singleton bins:\n",
      "    stage 0 bin 31\n",
      "    stage 1 bin 257\n",
      "---\n",
      "input freq: [26962]\n",
      "true singleton bins:\n",
      "    stage 0 bin 208\n",
      "    stage 1 bin 248\n",
      "---\n",
      "input freq: [68455]\n",
      "true singleton bins:\n",
      "    stage 0 bin 198\n",
      "    stage 1 bin 226\n",
      "---\n",
      "input freq: [119189]\n",
      "true singleton bins:\n",
      "    stage 0 bin 168\n",
      "    stage 1 bin 59\n",
      "---\n",
      "input freq: [3284]\n",
      "true singleton bins:\n",
      "    stage 0 bin 197\n",
      "    stage 1 bin 35\n",
      "---\n",
      "input freq: [91871]\n",
      "true singleton bins:\n",
      "    stage 0 bin 290\n",
      "    stage 1 bin 177\n",
      "---\n",
      "input freq: [99819]\n",
      "true singleton bins:\n",
      "    stage 0 bin 6\n",
      "    stage 1 bin 183\n",
      "---\n",
      "input freq: [65824]\n",
      "true singleton bins:\n",
      "    stage 0 bin 311\n",
      "    stage 1 bin 122\n",
      "---\n",
      "input freq: [84127]\n",
      "true singleton bins:\n",
      "    stage 0 bin 92\n",
      "    stage 1 bin 14\n",
      "---\n",
      "input freq: [70630]\n",
      "true singleton bins:\n",
      "    stage 0 bin 315\n",
      "    stage 1 bin 235\n",
      "---\n",
      "input freq: [14225]\n",
      "true singleton bins:\n",
      "    stage 0 bin 162\n",
      "    stage 1 bin 146\n",
      "---\n",
      "input freq: [58047]\n",
      "true singleton bins:\n",
      "    stage 0 bin 80\n",
      "    stage 1 bin 287\n",
      "---\n",
      "input freq: [6018]\n",
      "true singleton bins:\n",
      "    stage 0 bin 187\n",
      "    stage 1 bin 242\n",
      "---\n",
      "\n",
      "Running experiment mode (for now)\n",
      "Signal length: 123823\n",
      "Signal sparsity: 1\n",
      "Signal-to-noise ratio (dB): -19\n",
      "Random phase\n",
      "Delays: 48\n",
      "Bins: 343 361\n",
      "Bin processor: kay2\n",
      "<===== NUMBER OF SAMPLES =====>\n",
      "29991 -> used samples\n",
      "24.22% samples touched\n",
      "<===== AVERAGE TIME (in milliseconds) =====>\n",
      "Total time: 65032\n",
      "Time per iteration:  1300\n"
     ]
    }
   ],
   "source": [
    "ffast = FFAST(config, input_signal, output_signal)\n",
    "\n",
    "if not config.help_displayed:\n",
    "    # this disregards the time to make the signal\n",
    "    time_initial = int(np.round(time.time() * 1000)) \n",
    "    iterations = config.iterations\n",
    "    \n",
    "    for i in tqdm(range(iterations)):\n",
    "        input_signal.process() # ffast.get_delays() in the CPP code as an argument\n",
    "        print('input freq: {}'.format(input_signal.freqs))\n",
    "        \n",
    "        print('true singleton bins:')\n",
    "        for stage_idx, bin_size in enumerate(params.bins):\n",
    "            print('    stage {} bin {}'.format(stage_idx, input_signal.freqs[0] % bin_size))\n",
    "        \n",
    "        ffast.process()\n",
    "        output_signal.process()\n",
    "        print('---')\n",
    "\n",
    "    time_final = int(np.round(time.time() * 1000))\n",
    "\n",
    "    ffast.display_results(time_final - time_initial)"
   ]
  },
  {
   "cell_type": "code",
   "execution_count": 24,
   "metadata": {},
   "outputs": [
    {
     "data": {
      "text/plain": [
       "1.0"
      ]
     },
     "execution_count": 24,
     "metadata": {},
     "output_type": "execute_result"
    }
   ],
   "source": [
    "output_signal.statistics()[0]/params.iterations"
   ]
  },
  {
   "cell_type": "markdown",
   "metadata": {},
   "source": [
    "# this part is for debugging"
   ]
  },
  {
   "cell_type": "code",
   "execution_count": 20,
   "metadata": {},
   "outputs": [
    {
     "data": {
      "text/plain": [
       "{'output_file': None,\n",
       " 'signal_length': 123823,\n",
       " 'signal_length_original': 123823,\n",
       " 'signal_sparsity_peeling': 1,\n",
       " 'signal_sparsity': 1,\n",
       " 'length_factor': 1,\n",
       " 'maximum_likelihood': False,\n",
       " 'count_samples': True,\n",
       " 'delays_per_bunch_nb': 3,\n",
       " 'chains_nb': 16,\n",
       " 'off_grid_SNR_dB': 100,\n",
       " 'min_fourier_magnitude': 1,\n",
       " 'help_displayed': False,\n",
       " 'primes': array([ 7, 19]),\n",
       " 'prime_powers': array([3, 2]),\n",
       " 'bins': array([343, 361]),\n",
       " 'distribution': array([0., 1.]),\n",
       " 'iterations': 50,\n",
       " 'experiment_mode': False,\n",
       " 'phases_nb': 0,\n",
       " 'display_iteration_time': False,\n",
       " 'noisy': True,\n",
       " 'quantize': False,\n",
       " 'SNR_dB': -22.575072019056577,\n",
       " 'quantization_bits_nb': 0,\n",
       " 'max_SNR_dB': -22.575072019056577,\n",
       " 'verbose': False,\n",
       " 'reconstruct_signal_in_backend': False,\n",
       " 'off_grid': False,\n",
       " 'default_delays': False,\n",
       " 'apply_window_var': False,\n",
       " 'input_file': '/Users/adityasengupta/Library/Jupyter/runtime/kernel-ca65e5ed-bf40-4a01-872a-b8544b5bd12d.json',\n",
       " 'bin_processing_method': 'kay2',\n",
       " 'bins_sum': 704,\n",
       " 'bin_offsets': array([  0, 343]),\n",
       " 'eff_snr': 0.005527042423736509,\n",
       " 'delays_nb': 48}"
      ]
     },
     "execution_count": 20,
     "metadata": {},
     "output_type": "execute_result"
    }
   ],
   "source": [
    "vars(ffast.config)"
   ]
  },
  {
   "cell_type": "code",
   "execution_count": 21,
   "metadata": {},
   "outputs": [],
   "source": [
    "def test_many(f, num_iter, **kwargs):\n",
    "    r = []\n",
    "    for i in tqdm(range(num_iter)):\n",
    "        r.append(f(**kwargs))\n",
    "    return r"
   ]
  },
  {
   "cell_type": "code",
   "execution_count": 22,
   "metadata": {},
   "outputs": [],
   "source": [
    "def test_if_location_is_true(stage_idx):\n",
    "    input_signal.process()\n",
    "    ffast.frontend.process()\n",
    "    singleton_bin = input_signal.freqs[0] % params.bins[stage_idx]\n",
    "    binprocessor = BinProcessor(config, ffast.frontend.delays, ffast.frontend.observation_matrix)\n",
    "    \n",
    "    binprocessor.adjust_to(config.bin_offsets[stage_idx]+singleton_bin, singleton_bin, stage_idx)\n",
    "    binprocessor.process()\n",
    "    loc_hat = binprocessor.location\n",
    "    loc = input_signal.freqs[0]\n",
    "    if loc_hat == loc:\n",
    "        return True\n",
    "    else:\n",
    "        return False"
   ]
  },
  {
   "cell_type": "code",
   "execution_count": 23,
   "metadata": {},
   "outputs": [
    {
     "data": {
      "application/vnd.jupyter.widget-view+json": {
       "model_id": "ebcfcca05de94604a51eecb3619ff3c1",
       "version_major": 2,
       "version_minor": 0
      },
      "text/plain": [
       "HBox(children=(IntProgress(value=0), HTML(value='')))"
      ]
     },
     "metadata": {},
     "output_type": "display_data"
    },
    {
     "name": "stdout",
     "output_type": "stream",
     "text": [
      "\n",
      "location identification accuracy: 0.59\n"
     ]
    }
   ],
   "source": [
    "results_of_location_estimation = test_many(test_if_location_is_true, 100, stage_idx=0)\n",
    "print('location identification accuracy: {}'.format(np.mean(results_of_location_estimation)))"
   ]
  },
  {
   "cell_type": "code",
   "execution_count": 24,
   "metadata": {},
   "outputs": [
    {
     "name": "stdout",
     "output_type": "stream",
     "text": [
      "true frequencies: [102329]\n"
     ]
    }
   ],
   "source": [
    "input_signal.process() # ffast.get_delays() in the CPP code as an argument\n",
    "print(\"true frequencies: {}\".format(input_signal.freqs))\n",
    "\n",
    "ffast.frontend.process()\n",
    "# ffast.backend.process()\n",
    "# output_signal.process()"
   ]
  },
  {
   "cell_type": "code",
   "execution_count": null,
   "metadata": {
    "scrolled": true
   },
   "outputs": [],
   "source": [
    "# plt.stem(np.linalg.norm(ffast.frontend.observation_matrix, axis=0)**2/ffast.config.delays_nb)\n",
    "# plt.xlabel('bin absolute index')\n",
    "# plt.show()"
   ]
  },
  {
   "cell_type": "code",
   "execution_count": 25,
   "metadata": {},
   "outputs": [
    {
     "name": "stdout",
     "output_type": "stream",
     "text": [
      "115\n"
     ]
    }
   ],
   "source": [
    "singleton_bin = input_signal.freqs[0] % params.bins[0]\n",
    "print(singleton_bin)"
   ]
  },
  {
   "cell_type": "code",
   "execution_count": 26,
   "metadata": {},
   "outputs": [],
   "source": [
    "binprocessor = BinProcessor(config, ffast.frontend.delays, ffast.frontend.observation_matrix)"
   ]
  },
  {
   "cell_type": "code",
   "execution_count": 27,
   "metadata": {},
   "outputs": [],
   "source": [
    "# plt.stem(np.linalg.norm(ffast.frontend.observation_matrix, axis=0)**2/ffast.config.delays_nb)\n",
    "# plt.axhline(binprocessor.thresholds[0])\n",
    "# plt.xlabel('bin absolute index')\n",
    "# plt.show()"
   ]
  },
  {
   "cell_type": "code",
   "execution_count": 28,
   "metadata": {},
   "outputs": [],
   "source": [
    "binprocessor.adjust_to(singleton_bin, singleton_bin, 0)"
   ]
  },
  {
   "cell_type": "code",
   "execution_count": 29,
   "metadata": {},
   "outputs": [
    {
     "name": "stdout",
     "output_type": "stream",
     "text": [
      "energy: 60.08823593068651\n",
      "threshold: 361.85718267899057\n"
     ]
    },
    {
     "data": {
      "text/plain": [
       "True"
      ]
     },
     "execution_count": 29,
     "metadata": {},
     "output_type": "execute_result"
    }
   ],
   "source": [
    "binprocessor.is_zeroton()"
   ]
  },
  {
   "cell_type": "code",
   "execution_count": 30,
   "metadata": {},
   "outputs": [],
   "source": [
    "binprocessor.process()"
   ]
  },
  {
   "cell_type": "code",
   "execution_count": 31,
   "metadata": {},
   "outputs": [
    {
     "name": "stdout",
     "output_type": "stream",
     "text": [
      "102329\n",
      "[102329]\n"
     ]
    }
   ],
   "source": [
    "# binprocessor.find_location_new()\n",
    "print(binprocessor.location)\n",
    "print(input_signal.freqs)"
   ]
  },
  {
   "cell_type": "code",
   "execution_count": 32,
   "metadata": {},
   "outputs": [
    {
     "data": {
      "text/plain": [
       "True"
      ]
     },
     "execution_count": 32,
     "metadata": {},
     "output_type": "execute_result"
    }
   ],
   "source": [
    "binprocessor.is_singleton()"
   ]
  },
  {
   "cell_type": "code",
   "execution_count": 33,
   "metadata": {
    "scrolled": true
   },
   "outputs": [
    {
     "data": {
      "text/plain": [
       "102329"
      ]
     },
     "execution_count": 33,
     "metadata": {},
     "output_type": "execute_result"
    }
   ],
   "source": [
    "binprocessor.location"
   ]
  },
  {
   "cell_type": "code",
   "execution_count": 34,
   "metadata": {},
   "outputs": [
    {
     "data": {
      "text/plain": [
       "(0.879865872482332-0.05884119326634166j)"
      ]
     },
     "execution_count": 34,
     "metadata": {},
     "output_type": "execute_result"
    }
   ],
   "source": [
    "binprocessor.amplitude"
   ]
  },
  {
   "cell_type": "code",
   "execution_count": 35,
   "metadata": {},
   "outputs": [
    {
     "data": {
      "text/plain": [
       "0.4742120089718666"
      ]
     },
     "execution_count": 35,
     "metadata": {},
     "output_type": "execute_result"
    }
   ],
   "source": [
    "binprocessor.noise"
   ]
  },
  {
   "cell_type": "code",
   "execution_count": 36,
   "metadata": {},
   "outputs": [
    {
     "data": {
      "text/plain": [
       "361.85718267899057"
      ]
     },
     "execution_count": 36,
     "metadata": {},
     "output_type": "execute_result"
    }
   ],
   "source": [
    "binprocessor.thresholds[0]"
   ]
  },
  {
   "cell_type": "code",
   "execution_count": 37,
   "metadata": {},
   "outputs": [
    {
     "data": {
      "text/plain": [
       "0.1"
      ]
     },
     "execution_count": 37,
     "metadata": {},
     "output_type": "execute_result"
    }
   ],
   "source": [
    "binprocessor.minimum_energy"
   ]
  },
  {
   "cell_type": "code",
   "execution_count": null,
   "metadata": {},
   "outputs": [],
   "source": []
  },
  {
   "cell_type": "code",
   "execution_count": 38,
   "metadata": {},
   "outputs": [
    {
     "data": {
      "text/plain": [
       "{27728: (1.0189003610731628+0.0699427304035451j)}"
      ]
     },
     "execution_count": 38,
     "metadata": {},
     "output_type": "execute_result"
    }
   ],
   "source": [
    "ffast.backend.decoded_frequencies"
   ]
  },
  {
   "cell_type": "code",
   "execution_count": 39,
   "metadata": {},
   "outputs": [],
   "source": [
    "output_signal.check_full_recovery()"
   ]
  },
  {
   "cell_type": "code",
   "execution_count": 40,
   "metadata": {},
   "outputs": [
    {
     "data": {
      "text/plain": [
       "(44, 0)"
      ]
     },
     "execution_count": 40,
     "metadata": {},
     "output_type": "execute_result"
    }
   ],
   "source": [
    "output_signal.statistics()"
   ]
  },
  {
   "cell_type": "code",
   "execution_count": 41,
   "metadata": {},
   "outputs": [],
   "source": [
    "ffast = FFAST(config, input_signal, output_signal)"
   ]
  },
  {
   "cell_type": "code",
   "execution_count": 42,
   "metadata": {},
   "outputs": [
    {
     "name": "stdout",
     "output_type": "stream",
     "text": [
      "[102364]\n"
     ]
    }
   ],
   "source": [
    "input_signal.process() # ffast.get_delays() in the CPP code as an argument\n",
    "print(input_signal.freqs)"
   ]
  },
  {
   "cell_type": "code",
   "execution_count": 43,
   "metadata": {
    "scrolled": true
   },
   "outputs": [
    {
     "name": "stdout",
     "output_type": "stream",
     "text": [
      "found a singleton at 102364 -- stage 0 -- bin 150\n"
     ]
    }
   ],
   "source": [
    "ffast.process()"
   ]
  },
  {
   "cell_type": "code",
   "execution_count": 44,
   "metadata": {},
   "outputs": [],
   "source": [
    "output_signal.process()"
   ]
  },
  {
   "cell_type": "code",
   "execution_count": 45,
   "metadata": {},
   "outputs": [
    {
     "data": {
      "text/plain": [
       "(45, 0)"
      ]
     },
     "execution_count": 45,
     "metadata": {},
     "output_type": "execute_result"
    }
   ],
   "source": [
    "output_signal.statistics()"
   ]
  },
  {
   "cell_type": "code",
   "execution_count": null,
   "metadata": {},
   "outputs": [],
   "source": []
  },
  {
   "cell_type": "code",
   "execution_count": null,
   "metadata": {},
   "outputs": [],
   "source": []
  },
  {
   "cell_type": "code",
   "execution_count": null,
   "metadata": {},
   "outputs": [],
   "source": []
  },
  {
   "cell_type": "code",
   "execution_count": null,
   "metadata": {},
   "outputs": [],
   "source": []
  }
 ],
 "metadata": {
  "kernelspec": {
   "display_name": "Python 3",
   "language": "python",
   "name": "python3"
  },
  "language_info": {
   "codemirror_mode": {
    "name": "ipython",
    "version": 3
   },
   "file_extension": ".py",
   "mimetype": "text/x-python",
   "name": "python",
   "nbconvert_exporter": "python",
   "pygments_lexer": "ipython3",
   "version": "3.7.7"
  }
 },
 "nbformat": 4,
 "nbformat_minor": 2
}
