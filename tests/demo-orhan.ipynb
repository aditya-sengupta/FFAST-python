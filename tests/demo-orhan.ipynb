{
 "cells": [
  {
   "cell_type": "markdown",
   "metadata": {},
   "source": [
    "# Aim\n",
    "\n",
    "Get FFAST working at a basic level (no noise, no window_var, etc.).\n",
    "\n",
    "- for reasonably high-snr like around 5db (without the bin-length gain) look at kay vs. kay2 my guess is kay will fail but kay2 will keep working.  how much db can you go lower with kay2. is kay2 alway better?\n",
    "- how does all this compare to \"new\" method?\n",
    "- keep an eye on the total number of samples used by each method."
   ]
  },
  {
   "cell_type": "code",
   "execution_count": 1,
   "metadata": {},
   "outputs": [],
   "source": [
    "%load_ext autoreload\n",
    "%autoreload 2\n",
    "\n",
    "import sys\n",
    "sys.path.append(\"..\")\n",
    "from ffast import *\n",
    "from matplotlib import pyplot as plt\n",
    "import numpy as np\n",
    "import time\n",
    "\n",
    "from tqdm import tqdm_notebook as tqdm"
   ]
  },
  {
   "cell_type": "markdown",
   "metadata": {},
   "source": [
    "- making the seed of delays 0 makes the non-singleton locations pass the singleton test wrongly"
   ]
  },
  {
   "cell_type": "code",
   "execution_count": 2,
   "metadata": {},
   "outputs": [
    {
     "data": {
      "text/plain": [
       "343"
      ]
     },
     "execution_count": 2,
     "metadata": {},
     "output_type": "execute_result"
    }
   ],
   "source": [
    "7**3"
   ]
  },
  {
   "cell_type": "code",
   "execution_count": 3,
   "metadata": {},
   "outputs": [
    {
     "data": {
      "text/plain": [
       "361"
      ]
     },
     "execution_count": 3,
     "metadata": {},
     "output_type": "execute_result"
    }
   ],
   "source": [
    "19**2"
   ]
  },
  {
   "cell_type": "code",
   "execution_count": 4,
   "metadata": {},
   "outputs": [
    {
     "name": "stdout",
     "output_type": "stream",
     "text": [
      "[343, 361]\n",
      "16.917919793059983\n",
      "snr: -22.575072019056577\n"
     ]
    }
   ],
   "source": [
    "params = make_args()\n",
    "\n",
    "params.primes = [7, 19]\n",
    "params.prime_powers = [3, 2]\n",
    "\n",
    "params.bins = [i**j for i,j in zip(params.primes, params.prime_powers)]\n",
    "print(params.bins)\n",
    "\n",
    "params.length = np.prod(params.bins)\n",
    "print(np.log2(params.length))\n",
    "\n",
    "params.iterations = 50\n",
    "params.snr = 3 - 10*np.log10(params.bins[1])\n",
    "# params.snr = -22\n",
    "\n",
    "print('snr: {}'.format(params.snr))\n",
    "\n",
    "params.sparsity = 1\n",
    "\n",
    "# for ml\n",
    "# params.bin_processing_method = 'ml'\n",
    "# params.chains = 500\n",
    "# params.delays = 1\n",
    "\n",
    "# for kay\n",
    "# params.bin_processing_method = 'kay'\n",
    "params.bin_processing_method = 'kay2'\n",
    "params.chains = 16 # needs to be int(np.floor(np.log2(params.length))) [rounds down]\n",
    "params.delays = 3 # parameter to play with\n",
    "\n",
    "# for new\n",
    "# params.bin_processing_method = 'new'\n",
    "# params.chains = 1 # this is set to 1 always\n",
    "# params.delays = 1 # parameter to play with [the larger this value the larger the gap should be]\n",
    "\n",
    "\n",
    "\n",
    "config = Config(params)\n",
    "config.compute_params()\n",
    "\n",
    "input_signal = ExperimentInputSignal(config)\n",
    "input_signal.process()\n",
    "output_signal = ExperimentOutputSignal(config, input_signal)"
   ]
  },
  {
   "cell_type": "code",
   "execution_count": 5,
   "metadata": {},
   "outputs": [
    {
     "data": {
      "text/plain": [
       "177"
      ]
     },
     "execution_count": 5,
     "metadata": {},
     "output_type": "execute_result"
    }
   ],
   "source": [
    "np.sum(np.array(params.primes)*np.array(params.prime_powers))*params.delays"
   ]
  },
  {
   "cell_type": "code",
   "execution_count": 6,
   "metadata": {},
   "outputs": [
    {
     "data": {
      "text/plain": [
       "48"
      ]
     },
     "execution_count": 6,
     "metadata": {},
     "output_type": "execute_result"
    }
   ],
   "source": [
    "params.chains*params.delays"
   ]
  },
  {
   "cell_type": "code",
   "execution_count": 7,
   "metadata": {},
   "outputs": [
    {
     "data": {
      "text/plain": [
       "180.9285913394453"
      ]
     },
     "execution_count": 7,
     "metadata": {},
     "output_type": "execute_result"
    }
   ],
   "source": [
    "config.get_noise_sd()**2"
   ]
  },
  {
   "cell_type": "code",
   "execution_count": 8,
   "metadata": {},
   "outputs": [],
   "source": [
    "# vars(config)"
   ]
  },
  {
   "cell_type": "code",
   "execution_count": 9,
   "metadata": {},
   "outputs": [
    {
     "name": "stdout",
     "output_type": "stream",
     "text": [
      "Running experiment mode (for now)\n",
      "Signal length: 123823\n",
      "Signal sparsity: 1\n",
      "Signal-to-noise ratio (dB): -22\n",
      "Random phase\n",
      "Delays: 48\n",
      "Bins: 343 361\n",
      "Bin processor: kay2\n"
     ]
    }
   ],
   "source": [
    "config.display()"
   ]
  },
  {
   "cell_type": "code",
   "execution_count": 10,
   "metadata": {},
   "outputs": [],
   "source": [
    "# plt.plot(np.real(input_signal.time_signal))\n",
    "# plt.plot(np.imag(input_signal.time_signal))\n",
    "# plt.show()"
   ]
  },
  {
   "cell_type": "code",
   "execution_count": 11,
   "metadata": {},
   "outputs": [],
   "source": [
    "# len(input_signal.time_signal)"
   ]
  },
  {
   "cell_type": "code",
   "execution_count": 12,
   "metadata": {},
   "outputs": [],
   "source": [
    "# signal_fft = np.fft.fft(input_signal.time_signal)\n",
    "# plt.plot(np.abs(signal_fft))\n",
    "# plt.title('loc: {}'.format(input_signal.freqs))\n",
    "# plt.show()"
   ]
  },
  {
   "cell_type": "code",
   "execution_count": 13,
   "metadata": {},
   "outputs": [],
   "source": [
    "# input_signal.time_signal *= 2 # demonstrating that the input signal can be changed"
   ]
  },
  {
   "cell_type": "code",
   "execution_count": 14,
   "metadata": {},
   "outputs": [],
   "source": [
    "ffast = FFAST(config, input_signal, output_signal)"
   ]
  },
  {
   "cell_type": "code",
   "execution_count": 15,
   "metadata": {
    "scrolled": true
   },
   "outputs": [
    {
     "name": "stdout",
     "output_type": "stream",
     "text": [
      "0.24190174684832383\n"
     ]
    }
   ],
   "source": [
    "ffast.frontend.process()\n",
    "print(ffast.frontend.get_used_samples_nb()/ config.signal_length)"
   ]
  },
  {
   "cell_type": "code",
   "execution_count": 16,
   "metadata": {},
   "outputs": [
    {
     "data": {
      "text/plain": [
       "[343, 361]"
      ]
     },
     "execution_count": 16,
     "metadata": {},
     "output_type": "execute_result"
    }
   ],
   "source": [
    "params.bins"
   ]
  },
  {
   "cell_type": "code",
   "execution_count": 17,
   "metadata": {
    "scrolled": false
   },
   "outputs": [
    {
     "data": {
      "application/vnd.jupyter.widget-view+json": {
       "model_id": "7a9ff51a49864a1eb9f7d6571bef1103",
       "version_major": 2,
       "version_minor": 0
      },
      "text/plain": [
       "HBox(children=(IntProgress(value=0, max=50), HTML(value='')))"
      ]
     },
     "metadata": {},
     "output_type": "display_data"
    },
    {
     "name": "stdout",
     "output_type": "stream",
     "text": [
      "input freq: [98343]\n",
      "true singleton bins:\n",
      "    stage 0 bin 245\n",
      "    stage 1 bin 151\n",
      "found a singleton at 98343 -- stage 1 -- bin 151\n",
      "---\n",
      "input freq: [65400]\n",
      "true singleton bins:\n",
      "    stage 0 bin 230\n",
      "    stage 1 bin 59\n",
      "found a singleton at 65400 -- stage 0 -- bin 230\n",
      "---\n",
      "input freq: [61576]\n",
      "true singleton bins:\n",
      "    stage 0 bin 179\n",
      "    stage 1 bin 206\n",
      "found a singleton at 61576 -- stage 0 -- bin 179\n",
      "---\n",
      "input freq: [21648]\n",
      "true singleton bins:\n",
      "    stage 0 bin 39\n",
      "    stage 1 bin 349\n",
      "found a singleton at 21648 -- stage 0 -- bin 39\n",
      "---\n",
      "input freq: [119679]\n",
      "true singleton bins:\n",
      "    stage 0 bin 315\n",
      "    stage 1 bin 188\n",
      "found a singleton at 119679 -- stage 0 -- bin 315\n",
      "---\n",
      "input freq: [63391]\n",
      "true singleton bins:\n",
      "    stage 0 bin 279\n",
      "    stage 1 bin 216\n",
      "---\n",
      "input freq: [85121]\n",
      "true singleton bins:\n",
      "    stage 0 bin 57\n",
      "    stage 1 bin 286\n",
      "found a singleton at 85121 -- stage 0 -- bin 57\n",
      "---\n",
      "input freq: [10796]\n",
      "true singleton bins:\n",
      "    stage 0 bin 163\n",
      "    stage 1 bin 327\n",
      "found a singleton at 10796 -- stage 1 -- bin 327\n",
      "---\n",
      "input freq: [59782]\n",
      "true singleton bins:\n",
      "    stage 0 bin 100\n",
      "    stage 1 bin 217\n",
      "found a singleton at 59782 -- stage 1 -- bin 217\n",
      "---\n",
      "input freq: [8381]\n",
      "true singleton bins:\n",
      "    stage 0 bin 149\n",
      "    stage 1 bin 78\n",
      "found a singleton at 8381 -- stage 0 -- bin 149\n",
      "---\n",
      "input freq: [16300]\n",
      "true singleton bins:\n",
      "    stage 0 bin 179\n",
      "    stage 1 bin 55\n",
      "found a singleton at 16300 -- stage 1 -- bin 55\n",
      "---\n",
      "input freq: [67425]\n",
      "true singleton bins:\n",
      "    stage 0 bin 197\n",
      "    stage 1 bin 279\n",
      "found a singleton at 67425 -- stage 0 -- bin 197\n",
      "---\n",
      "input freq: [51483]\n",
      "true singleton bins:\n",
      "    stage 0 bin 33\n",
      "    stage 1 bin 221\n",
      "found a singleton at 51483 -- stage 0 -- bin 33\n",
      "---\n",
      "input freq: [100333]\n",
      "true singleton bins:\n",
      "    stage 0 bin 177\n",
      "    stage 1 bin 336\n",
      "---\n",
      "input freq: [97417]\n",
      "true singleton bins:\n",
      "    stage 0 bin 5\n",
      "    stage 1 bin 308\n",
      "found a singleton at 97417 -- stage 0 -- bin 5\n",
      "---\n",
      "input freq: [52324]\n",
      "true singleton bins:\n",
      "    stage 0 bin 188\n",
      "    stage 1 bin 340\n",
      "found a singleton at 52324 -- stage 0 -- bin 188\n",
      "---\n",
      "input freq: [36355]\n",
      "true singleton bins:\n",
      "    stage 0 bin 340\n",
      "    stage 1 bin 255\n",
      "found a singleton at 36355 -- stage 1 -- bin 255\n",
      "---\n",
      "input freq: [66780]\n",
      "true singleton bins:\n",
      "    stage 0 bin 238\n",
      "    stage 1 bin 356\n",
      "found a singleton at 66780 -- stage 1 -- bin 356\n",
      "---\n",
      "input freq: [16538]\n",
      "true singleton bins:\n",
      "    stage 0 bin 74\n",
      "    stage 1 bin 293\n",
      "found a singleton at 16538 -- stage 0 -- bin 74\n",
      "---\n",
      "input freq: [111639]\n",
      "true singleton bins:\n",
      "    stage 0 bin 164\n",
      "    stage 1 bin 90\n",
      "found a singleton at 111639 -- stage 1 -- bin 90\n",
      "---\n",
      "input freq: [24234]\n",
      "true singleton bins:\n",
      "    stage 0 bin 224\n",
      "    stage 1 bin 47\n",
      "---\n",
      "input freq: [41596]\n",
      "true singleton bins:\n",
      "    stage 0 bin 93\n",
      "    stage 1 bin 81\n",
      "found a singleton at 41596 -- stage 1 -- bin 81\n",
      "---\n",
      "input freq: [47687]\n",
      "true singleton bins:\n",
      "    stage 0 bin 10\n",
      "    stage 1 bin 35\n",
      "found a singleton at 47687 -- stage 0 -- bin 10\n",
      "---\n",
      "input freq: [55988]\n",
      "true singleton bins:\n",
      "    stage 0 bin 79\n",
      "    stage 1 bin 33\n",
      "found a singleton at 55988 -- stage 0 -- bin 79\n",
      "---\n",
      "input freq: [107810]\n",
      "true singleton bins:\n",
      "    stage 0 bin 108\n",
      "    stage 1 bin 232\n",
      "found a singleton at 107810 -- stage 0 -- bin 108\n",
      "---\n",
      "input freq: [100337]\n",
      "true singleton bins:\n",
      "    stage 0 bin 181\n",
      "    stage 1 bin 340\n",
      "---\n",
      "input freq: [3725]\n",
      "true singleton bins:\n",
      "    stage 0 bin 295\n",
      "    stage 1 bin 115\n",
      "found a singleton at 3725 -- stage 0 -- bin 295\n",
      "---\n",
      "input freq: [81837]\n",
      "true singleton bins:\n",
      "    stage 0 bin 203\n",
      "    stage 1 bin 251\n",
      "found a singleton at 81837 -- stage 0 -- bin 203\n",
      "---\n",
      "input freq: [5635]\n",
      "true singleton bins:\n",
      "    stage 0 bin 147\n",
      "    stage 1 bin 220\n",
      "found a singleton at 5635 -- stage 0 -- bin 147\n",
      "---\n",
      "input freq: [8736]\n",
      "true singleton bins:\n",
      "    stage 0 bin 161\n",
      "    stage 1 bin 72\n",
      "found a singleton at 8736 -- stage 1 -- bin 72\n",
      "---\n",
      "input freq: [28368]\n",
      "true singleton bins:\n",
      "    stage 0 bin 242\n",
      "    stage 1 bin 210\n",
      "found a singleton at 28368 -- stage 0 -- bin 242\n",
      "---\n",
      "input freq: [64398]\n",
      "true singleton bins:\n",
      "    stage 0 bin 257\n",
      "    stage 1 bin 140\n",
      "found a singleton at 64398 -- stage 1 -- bin 140\n",
      "---\n",
      "input freq: [109014]\n",
      "true singleton bins:\n",
      "    stage 0 bin 283\n",
      "    stage 1 bin 353\n",
      "---\n",
      "input freq: [4938]\n",
      "true singleton bins:\n",
      "    stage 0 bin 136\n",
      "    stage 1 bin 245\n",
      "found a singleton at 4938 -- stage 0 -- bin 136\n",
      "---\n",
      "input freq: [70562]\n",
      "true singleton bins:\n",
      "    stage 0 bin 247\n",
      "    stage 1 bin 167\n",
      "found a singleton at 70562 -- stage 0 -- bin 247\n",
      "---\n",
      "input freq: [68720]\n",
      "true singleton bins:\n",
      "    stage 0 bin 120\n",
      "    stage 1 bin 130\n",
      "found a singleton at 68720 -- stage 1 -- bin 130\n",
      "---\n",
      "input freq: [17835]\n",
      "true singleton bins:\n",
      "    stage 0 bin 342\n",
      "    stage 1 bin 146\n",
      "found a singleton at 17835 -- stage 1 -- bin 146\n",
      "---\n",
      "input freq: [92814]\n",
      "true singleton bins:\n",
      "    stage 0 bin 204\n",
      "    stage 1 bin 37\n",
      "found a singleton at 92814 -- stage 1 -- bin 37\n",
      "---\n",
      "input freq: [51977]\n",
      "true singleton bins:\n",
      "    stage 0 bin 184\n",
      "    stage 1 bin 354\n",
      "found a singleton at 51977 -- stage 0 -- bin 184\n",
      "---\n",
      "input freq: [82505]\n",
      "true singleton bins:\n",
      "    stage 0 bin 185\n",
      "    stage 1 bin 197\n",
      "found a singleton at 82505 -- stage 0 -- bin 185\n",
      "---\n",
      "input freq: [20467]\n",
      "true singleton bins:\n",
      "    stage 0 bin 230\n",
      "    stage 1 bin 251\n",
      "found a singleton at 20467 -- stage 0 -- bin 230\n",
      "---\n",
      "input freq: [113658]\n",
      "true singleton bins:\n",
      "    stage 0 bin 125\n",
      "    stage 1 bin 304\n",
      "found a singleton at 113658 -- stage 0 -- bin 125\n",
      "---\n",
      "input freq: [39780]\n",
      "true singleton bins:\n",
      "    stage 0 bin 335\n",
      "    stage 1 bin 70\n",
      "found a singleton at 39780 -- stage 0 -- bin 335\n",
      "---\n",
      "input freq: [70551]\n",
      "true singleton bins:\n",
      "    stage 0 bin 236\n",
      "    stage 1 bin 156\n",
      "found a singleton at 70551 -- stage 1 -- bin 156\n",
      "---\n",
      "input freq: [47001]\n",
      "true singleton bins:\n",
      "    stage 0 bin 10\n",
      "    stage 1 bin 71\n",
      "found a singleton at 47001 -- stage 0 -- bin 10\n",
      "---\n",
      "input freq: [85460]\n",
      "true singleton bins:\n",
      "    stage 0 bin 53\n",
      "    stage 1 bin 264\n",
      "---\n",
      "input freq: [86693]\n",
      "true singleton bins:\n",
      "    stage 0 bin 257\n",
      "    stage 1 bin 53\n",
      "found a singleton at 86693 -- stage 1 -- bin 53\n",
      "---\n",
      "input freq: [47499]\n",
      "true singleton bins:\n",
      "    stage 0 bin 165\n",
      "    stage 1 bin 208\n",
      "found a singleton at 47499 -- stage 0 -- bin 165\n",
      "---\n",
      "input freq: [43750]\n",
      "true singleton bins:\n",
      "    stage 0 bin 189\n",
      "    stage 1 bin 69\n",
      "found a singleton at 43750 -- stage 1 -- bin 69\n",
      "---\n",
      "input freq: [27728]\n",
      "true singleton bins:\n",
      "    stage 0 bin 288\n",
      "    stage 1 bin 292\n",
      "found a singleton at 27728 -- stage 0 -- bin 288\n",
      "---\n",
      "\n",
      "Running experiment mode (for now)\n",
      "Signal length: 123823\n",
      "Signal sparsity: 1\n",
      "Signal-to-noise ratio (dB): -22\n",
      "Random phase\n",
      "Delays: 48\n",
      "Bins: 343 361\n",
      "Bin processor: kay2\n",
      "<===== NUMBER OF SAMPLES =====>\n",
      "29655 -> used samples\n",
      "23.95% samples touched\n",
      "<===== AVERAGE TIME (in milliseconds) =====>\n",
      "Total time: 99823\n",
      "Time per iteration:  1996\n"
     ]
    }
   ],
   "source": [
    "ffast = FFAST(config, input_signal, output_signal)\n",
    "\n",
    "if not config.help_displayed:\n",
    "    # this disregards the time to make the signal\n",
    "    time_initial = int(np.round(time.time() * 1000)) \n",
    "\n",
    "    iterations = config.iterations\n",
    "    \n",
    "    for i in tqdm(range(iterations)):\n",
    "        input_signal.process() # ffast.get_delays() in the CPP code as an argument\n",
    "        print('input freq: {}'.format(input_signal.freqs))\n",
    "        \n",
    "        print('true singleton bins:')\n",
    "        for stage_idx, bin_size in enumerate(params.bins):\n",
    "            print('    stage {} bin {}'.format(stage_idx, input_signal.freqs[0] % bin_size))\n",
    "        \n",
    "        ffast.process()\n",
    "        output_signal.process()\n",
    "        print('---')\n",
    "\n",
    "    time_final = int(np.round(time.time() * 1000))\n",
    "\n",
    "    ffast.display_results(time_final - time_initial)"
   ]
  },
  {
   "cell_type": "code",
   "execution_count": 18,
   "metadata": {},
   "outputs": [
    {
     "data": {
      "text/plain": [
       "0.88"
      ]
     },
     "execution_count": 18,
     "metadata": {},
     "output_type": "execute_result"
    }
   ],
   "source": [
    "output_signal.statistics()[0]/params.iterations"
   ]
  },
  {
   "cell_type": "markdown",
   "metadata": {},
   "source": [
    "# this part is for debugging"
   ]
  },
  {
   "cell_type": "code",
   "execution_count": 20,
   "metadata": {},
   "outputs": [
    {
     "data": {
      "text/plain": [
       "{'output_file': None,\n",
       " 'signal_length': 123823,\n",
       " 'signal_length_original': 123823,\n",
       " 'signal_sparsity_peeling': 1,\n",
       " 'signal_sparsity': 1,\n",
       " 'length_factor': 1,\n",
       " 'maximum_likelihood': False,\n",
       " 'count_samples': True,\n",
       " 'delays_per_bunch_nb': 3,\n",
       " 'chains_nb': 16,\n",
       " 'off_grid_SNR_dB': 100,\n",
       " 'min_fourier_magnitude': 1,\n",
       " 'help_displayed': False,\n",
       " 'primes': array([ 7, 19]),\n",
       " 'prime_powers': array([3, 2]),\n",
       " 'bins': array([343, 361]),\n",
       " 'distribution': array([0., 1.]),\n",
       " 'iterations': 50,\n",
       " 'experiment_mode': False,\n",
       " 'phases_nb': 0,\n",
       " 'display_iteration_time': False,\n",
       " 'noisy': True,\n",
       " 'quantize': False,\n",
       " 'SNR_dB': -22.575072019056577,\n",
       " 'quantization_bits_nb': 0,\n",
       " 'max_SNR_dB': -22.575072019056577,\n",
       " 'verbose': False,\n",
       " 'reconstruct_signal_in_backend': False,\n",
       " 'off_grid': False,\n",
       " 'default_delays': False,\n",
       " 'apply_window_var': False,\n",
       " 'input_file': '/Users/adityasengupta/Library/Jupyter/runtime/kernel-ca65e5ed-bf40-4a01-872a-b8544b5bd12d.json',\n",
       " 'bin_processing_method': 'kay2',\n",
       " 'bins_sum': 704,\n",
       " 'bin_offsets': array([  0, 343]),\n",
       " 'eff_snr': 0.005527042423736509,\n",
       " 'delays_nb': 48}"
      ]
     },
     "execution_count": 20,
     "metadata": {},
     "output_type": "execute_result"
    }
   ],
   "source": [
    "vars(ffast.config)"
   ]
  },
  {
   "cell_type": "code",
   "execution_count": 21,
   "metadata": {},
   "outputs": [],
   "source": [
    "def test_many(f, num_iter, **kwargs):\n",
    "    r = []\n",
    "    for i in tqdm(range(num_iter)):\n",
    "        r.append(f(**kwargs))\n",
    "    return r"
   ]
  },
  {
   "cell_type": "code",
   "execution_count": 22,
   "metadata": {},
   "outputs": [],
   "source": [
    "def test_if_location_is_true(stage_idx):\n",
    "    input_signal.process()\n",
    "    ffast.frontend.process()\n",
    "    singleton_bin = input_signal.freqs[0] % params.bins[stage_idx]\n",
    "    binprocessor = BinProcessor(config, ffast.frontend.delays, ffast.frontend.observation_matrix)\n",
    "    \n",
    "    binprocessor.adjust_to(config.bin_offsets[stage_idx]+singleton_bin, singleton_bin, stage_idx)\n",
    "    binprocessor.process()\n",
    "    loc_hat = binprocessor.location\n",
    "    loc = input_signal.freqs[0]\n",
    "    if loc_hat == loc:\n",
    "        return True\n",
    "    else:\n",
    "        return False"
   ]
  },
  {
   "cell_type": "code",
   "execution_count": 23,
   "metadata": {},
   "outputs": [
    {
     "data": {
      "application/vnd.jupyter.widget-view+json": {
       "model_id": "ebcfcca05de94604a51eecb3619ff3c1",
       "version_major": 2,
       "version_minor": 0
      },
      "text/plain": [
       "HBox(children=(IntProgress(value=0), HTML(value='')))"
      ]
     },
     "metadata": {},
     "output_type": "display_data"
    },
    {
     "name": "stdout",
     "output_type": "stream",
     "text": [
      "\n",
      "location identification accuracy: 0.59\n"
     ]
    }
   ],
   "source": [
    "results_of_location_estimation = test_many(test_if_location_is_true, 100, stage_idx=0)\n",
    "print('location identification accuracy: {}'.format(np.mean(results_of_location_estimation)))"
   ]
  },
  {
   "cell_type": "code",
   "execution_count": 24,
   "metadata": {},
   "outputs": [
    {
     "name": "stdout",
     "output_type": "stream",
     "text": [
      "true frequencies: [102329]\n"
     ]
    }
   ],
   "source": [
    "input_signal.process() # ffast.get_delays() in the CPP code as an argument\n",
    "print(\"true frequencies: {}\".format(input_signal.freqs))\n",
    "\n",
    "ffast.frontend.process()\n",
    "# ffast.backend.process()\n",
    "# output_signal.process()"
   ]
  },
  {
   "cell_type": "code",
   "execution_count": null,
   "metadata": {
    "scrolled": true
   },
   "outputs": [],
   "source": [
    "# plt.stem(np.linalg.norm(ffast.frontend.observation_matrix, axis=0)**2/ffast.config.delays_nb)\n",
    "# plt.xlabel('bin absolute index')\n",
    "# plt.show()"
   ]
  },
  {
   "cell_type": "code",
   "execution_count": 25,
   "metadata": {},
   "outputs": [
    {
     "name": "stdout",
     "output_type": "stream",
     "text": [
      "115\n"
     ]
    }
   ],
   "source": [
    "singleton_bin = input_signal.freqs[0] % params.bins[0]\n",
    "print(singleton_bin)"
   ]
  },
  {
   "cell_type": "code",
   "execution_count": 26,
   "metadata": {},
   "outputs": [],
   "source": [
    "binprocessor = BinProcessor(config, ffast.frontend.delays, ffast.frontend.observation_matrix)"
   ]
  },
  {
   "cell_type": "code",
   "execution_count": 27,
   "metadata": {},
   "outputs": [],
   "source": [
    "# plt.stem(np.linalg.norm(ffast.frontend.observation_matrix, axis=0)**2/ffast.config.delays_nb)\n",
    "# plt.axhline(binprocessor.thresholds[0])\n",
    "# plt.xlabel('bin absolute index')\n",
    "# plt.show()"
   ]
  },
  {
   "cell_type": "code",
   "execution_count": 28,
   "metadata": {},
   "outputs": [],
   "source": [
    "binprocessor.adjust_to(singleton_bin, singleton_bin, 0)"
   ]
  },
  {
   "cell_type": "code",
   "execution_count": 29,
   "metadata": {},
   "outputs": [
    {
     "name": "stdout",
     "output_type": "stream",
     "text": [
      "energy: 60.08823593068651\n",
      "threshold: 361.85718267899057\n"
     ]
    },
    {
     "data": {
      "text/plain": [
       "True"
      ]
     },
     "execution_count": 29,
     "metadata": {},
     "output_type": "execute_result"
    }
   ],
   "source": [
    "binprocessor.is_zeroton()"
   ]
  },
  {
   "cell_type": "code",
   "execution_count": 30,
   "metadata": {},
   "outputs": [],
   "source": [
    "binprocessor.process()"
   ]
  },
  {
   "cell_type": "code",
   "execution_count": 31,
   "metadata": {},
   "outputs": [
    {
     "name": "stdout",
     "output_type": "stream",
     "text": [
      "102329\n",
      "[102329]\n"
     ]
    }
   ],
   "source": [
    "# binprocessor.find_location_new()\n",
    "print(binprocessor.location)\n",
    "print(input_signal.freqs)"
   ]
  },
  {
   "cell_type": "code",
   "execution_count": 32,
   "metadata": {},
   "outputs": [
    {
     "data": {
      "text/plain": [
       "True"
      ]
     },
     "execution_count": 32,
     "metadata": {},
     "output_type": "execute_result"
    }
   ],
   "source": [
    "binprocessor.is_singleton()"
   ]
  },
  {
   "cell_type": "code",
   "execution_count": 33,
   "metadata": {
    "scrolled": true
   },
   "outputs": [
    {
     "data": {
      "text/plain": [
       "102329"
      ]
     },
     "execution_count": 33,
     "metadata": {},
     "output_type": "execute_result"
    }
   ],
   "source": [
    "binprocessor.location"
   ]
  },
  {
   "cell_type": "code",
   "execution_count": 34,
   "metadata": {},
   "outputs": [
    {
     "data": {
      "text/plain": [
       "(0.879865872482332-0.05884119326634166j)"
      ]
     },
     "execution_count": 34,
     "metadata": {},
     "output_type": "execute_result"
    }
   ],
   "source": [
    "binprocessor.amplitude"
   ]
  },
  {
   "cell_type": "code",
   "execution_count": 35,
   "metadata": {},
   "outputs": [
    {
     "data": {
      "text/plain": [
       "0.4742120089718666"
      ]
     },
     "execution_count": 35,
     "metadata": {},
     "output_type": "execute_result"
    }
   ],
   "source": [
    "binprocessor.noise"
   ]
  },
  {
   "cell_type": "code",
   "execution_count": 36,
   "metadata": {},
   "outputs": [
    {
     "data": {
      "text/plain": [
       "361.85718267899057"
      ]
     },
     "execution_count": 36,
     "metadata": {},
     "output_type": "execute_result"
    }
   ],
   "source": [
    "binprocessor.thresholds[0]"
   ]
  },
  {
   "cell_type": "code",
   "execution_count": 37,
   "metadata": {},
   "outputs": [
    {
     "data": {
      "text/plain": [
       "0.1"
      ]
     },
     "execution_count": 37,
     "metadata": {},
     "output_type": "execute_result"
    }
   ],
   "source": [
    "binprocessor.minimum_energy"
   ]
  },
  {
   "cell_type": "code",
   "execution_count": null,
   "metadata": {},
   "outputs": [],
   "source": []
  },
  {
   "cell_type": "code",
   "execution_count": 38,
   "metadata": {},
   "outputs": [
    {
     "data": {
      "text/plain": [
       "{27728: (1.0189003610731628+0.0699427304035451j)}"
      ]
     },
     "execution_count": 38,
     "metadata": {},
     "output_type": "execute_result"
    }
   ],
   "source": [
    "ffast.backend.decoded_frequencies"
   ]
  },
  {
   "cell_type": "code",
   "execution_count": 39,
   "metadata": {},
   "outputs": [],
   "source": [
    "output_signal.check_full_recovery()"
   ]
  },
  {
   "cell_type": "code",
   "execution_count": 40,
   "metadata": {},
   "outputs": [
    {
     "data": {
      "text/plain": [
       "(44, 0)"
      ]
     },
     "execution_count": 40,
     "metadata": {},
     "output_type": "execute_result"
    }
   ],
   "source": [
    "output_signal.statistics()"
   ]
  },
  {
   "cell_type": "code",
   "execution_count": 41,
   "metadata": {},
   "outputs": [],
   "source": [
    "ffast = FFAST(config, input_signal, output_signal)"
   ]
  },
  {
   "cell_type": "code",
   "execution_count": 42,
   "metadata": {},
   "outputs": [
    {
     "name": "stdout",
     "output_type": "stream",
     "text": [
      "[102364]\n"
     ]
    }
   ],
   "source": [
    "input_signal.process() # ffast.get_delays() in the CPP code as an argument\n",
    "print(input_signal.freqs)"
   ]
  },
  {
   "cell_type": "code",
   "execution_count": 43,
   "metadata": {
    "scrolled": true
   },
   "outputs": [
    {
     "name": "stdout",
     "output_type": "stream",
     "text": [
      "found a singleton at 102364 -- stage 0 -- bin 150\n"
     ]
    }
   ],
   "source": [
    "ffast.process()"
   ]
  },
  {
   "cell_type": "code",
   "execution_count": 44,
   "metadata": {},
   "outputs": [],
   "source": [
    "output_signal.process()"
   ]
  },
  {
   "cell_type": "code",
   "execution_count": 45,
   "metadata": {},
   "outputs": [
    {
     "data": {
      "text/plain": [
       "(45, 0)"
      ]
     },
     "execution_count": 45,
     "metadata": {},
     "output_type": "execute_result"
    }
   ],
   "source": [
    "output_signal.statistics()"
   ]
  },
  {
   "cell_type": "code",
   "execution_count": null,
   "metadata": {},
   "outputs": [],
   "source": []
  },
  {
   "cell_type": "code",
   "execution_count": null,
   "metadata": {},
   "outputs": [],
   "source": []
  },
  {
   "cell_type": "code",
   "execution_count": null,
   "metadata": {},
   "outputs": [],
   "source": []
  },
  {
   "cell_type": "code",
   "execution_count": null,
   "metadata": {},
   "outputs": [],
   "source": []
  }
 ],
 "metadata": {
  "kernelspec": {
   "display_name": "Python 3",
   "language": "python",
   "name": "python3"
  },
  "language_info": {
   "codemirror_mode": {
    "name": "ipython",
    "version": 3
   },
   "file_extension": ".py",
   "mimetype": "text/x-python",
   "name": "python",
   "nbconvert_exporter": "python",
   "pygments_lexer": "ipython3",
   "version": "3.7.7"
  }
 },
 "nbformat": 4,
 "nbformat_minor": 2
}
