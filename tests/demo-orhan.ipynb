{
 "cells": [
  {
   "cell_type": "markdown",
   "metadata": {},
   "source": [
    "# Aim\n",
    "\n",
    "Get FFAST working at a basic level (no noise, no window_var, etc.).\n",
    "\n",
    "- for reasonably high-snr like around 5db (without the bin-length gain) look at kay vs. kay2 my guess is kay will fail but kay2 will keep working.  how much db can you go lower with kay2. is kay2 alway better?\n",
    "- how does all this compare to \"new\" method?\n",
    "- keep an eye on the total number of samples used by each method."
   ]
  },
  {
   "cell_type": "code",
   "execution_count": 4,
   "metadata": {},
   "outputs": [
    {
     "name": "stdout",
     "output_type": "stream",
     "text": [
      "The autoreload extension is already loaded. To reload it, use:\n",
      "  %reload_ext autoreload\n"
     ]
    }
   ],
   "source": [
    "%load_ext autoreload\n",
    "%autoreload 2\n",
    "\n",
    "import sys\n",
    "sys.path.append(\"..\")\n",
    "from ffast import *\n",
    "from matplotlib import pyplot as plt\n",
    "import numpy as np\n",
    "import time\n",
    "\n",
    "from tqdm import tqdm_notebook as tqdm"
   ]
  },
  {
   "cell_type": "code",
   "execution_count": null,
   "metadata": {},
   "outputs": [],
   "source": [
    "params = make_args()\n",
    "\n",
    "params.primes = [2, 3]\n",
    "params.prime_powers = [7, 5]\n",
    "\n",
    "params.bins = [i**j for i,j in zip(params.primes, params.prime_powers)]\n",
    "print(params.bins)\n",
    "\n",
    "params.length = np.prod(params.bins)\n",
    "print(np.log2(params.length))\n",
    "\n",
    "params.iterations = 50\n",
    "params.snr = 10#*np.log10(max(params.bins))\n",
    "\n",
    "params.sparsity = 1\n",
    "params.bin_processing_method = ['ml', 'kay', 'kay2', 'new'][2]\n",
    "chains_and_delays = {'ml': (120, 1), 'kay': (14, 5), 'kay2': (14, 2), 'new': (1, 8)}\n",
    "params.chains, params.delays = chains_and_delays[params.bin_processing_method]\n",
    "\n",
    "config = Config(params)\n",
    "config.compute_params()\n",
    "\n",
    "input_signal = ExperimentInputSignal(config)\n",
    "input_signal.process()\n",
    "output_signal = ExperimentOutputSignal(config, input_signal)"
   ]
  },
  {
   "cell_type": "code",
   "execution_count": null,
   "metadata": {},
   "outputs": [],
   "source": [
    "config.get_noise_sd()**2"
   ]
  },
  {
   "cell_type": "code",
   "execution_count": null,
   "metadata": {},
   "outputs": [],
   "source": [
    "# vars(config)"
   ]
  },
  {
   "cell_type": "code",
   "execution_count": null,
   "metadata": {},
   "outputs": [],
   "source": [
    "config.display()"
   ]
  },
  {
   "cell_type": "code",
   "execution_count": null,
   "metadata": {},
   "outputs": [],
   "source": [
    "plt.plot(np.real(input_signal.time_signal))\n",
    "plt.plot(np.imag(input_signal.time_signal))\n",
    "plt.show()"
   ]
  },
  {
   "cell_type": "code",
   "execution_count": null,
   "metadata": {},
   "outputs": [],
   "source": [
    "# len(input_signal.time_signal)"
   ]
  },
  {
   "cell_type": "code",
   "execution_count": null,
   "metadata": {},
   "outputs": [],
   "source": [
    "signal_fft = np.fft.fft(input_signal.time_signal)\n",
    "plt.plot(np.abs(signal_fft))\n",
    "plt.title('loc: {}'.format(input_signal.freqs))\n",
    "plt.show()"
   ]
  },
  {
   "cell_type": "code",
   "execution_count": null,
   "metadata": {},
   "outputs": [],
   "source": [
    "# input_signal.time_signal *= 2 # demonstrating that the input signal can be changed"
   ]
  },
  {
   "cell_type": "code",
   "execution_count": null,
   "metadata": {},
   "outputs": [],
   "source": [
    "ffast = FFAST(config, input_signal, output_signal)"
   ]
  },
  {
   "cell_type": "code",
   "execution_count": null,
   "metadata": {
    "scrolled": true
   },
   "outputs": [],
   "source": [
    "ffast.frontend.process()\n",
    "print(ffast.frontend.get_used_samples_nb())"
   ]
  },
  {
   "cell_type": "code",
   "execution_count": null,
   "metadata": {},
   "outputs": [],
   "source": [
    "params.bins"
   ]
  },
  {
   "cell_type": "code",
   "execution_count": null,
   "metadata": {
    "scrolled": false
   },
   "outputs": [],
   "source": [
    "ffast = FFAST(config, input_signal, output_signal)\n",
    "\n",
    "if not config.help_displayed:\n",
    "    # this disregards the time to make the signal\n",
    "    time_initial = int(np.round(time.time() * 1000)) \n",
    "\n",
    "    iterations = 3 or config.iterations\n",
    "    \n",
    "    for i in tqdm(range(1)):\n",
    "        input_signal.process() # ffast.get_delays() in the CPP code as an argument\n",
    "        print('input freq: {}'.format(input_signal.freqs))\n",
    "        \n",
    "        print('true singleton bins:')\n",
    "        for stage_idx, bin_size in enumerate(params.bins):\n",
    "            print('    stage {} bin {}'.format(stage_idx, input_signal.freqs[0] % bin_size))\n",
    "        \n",
    "        ffast.process()\n",
    "        output_signal.process()\n",
    "        print('---')\n",
    "\n",
    "    time_final = int(np.round(time.time() * 1000))\n",
    "\n",
    "    ffast.display_results(time_final - time_initial)"
   ]
  },
  {
   "cell_type": "code",
   "execution_count": null,
   "metadata": {},
   "outputs": [],
   "source": [
    "output_signal.statistics()[0]/iterations"
   ]
  },
  {
   "cell_type": "markdown",
   "metadata": {},
   "source": [
    "# this part is for debugging"
   ]
  },
  {
   "cell_type": "code",
   "execution_count": null,
   "metadata": {},
   "outputs": [],
   "source": [
    "vars(config)"
   ]
  },
  {
   "cell_type": "code",
   "execution_count": null,
   "metadata": {},
   "outputs": [],
   "source": [
    "input_signal.process() # ffast.get_delays() in the CPP code as an argument\n",
    "print(\"true frequencies: {}\".format(input_signal.freqs))\n",
    "\n",
    "ffast.frontend.process()\n",
    "# ffast.backend.process()\n",
    "# output_signal.process()"
   ]
  },
  {
   "cell_type": "code",
   "execution_count": null,
   "metadata": {
    "scrolled": true
   },
   "outputs": [],
   "source": [
    "# plt.stem(np.linalg.norm(ffast.frontend.observation_matrix, axis=0)**2/ffast.config.delays_nb)\n",
    "# plt.xlabel('bin absolute index')\n",
    "# plt.show()"
   ]
  },
  {
   "cell_type": "code",
   "execution_count": null,
   "metadata": {},
   "outputs": [],
   "source": [
    "singleton_bin = input_signal.freqs[0] % params.bins[0]\n",
    "print(singleton_bin)"
   ]
  },
  {
   "cell_type": "code",
   "execution_count": null,
   "metadata": {},
   "outputs": [],
   "source": [
    "binprocessor = BinProcessor(config, ffast.frontend.delays, ffast.frontend.observation_matrix)"
   ]
  },
  {
   "cell_type": "code",
   "execution_count": null,
   "metadata": {},
   "outputs": [],
   "source": [
    "# plt.stem(np.linalg.norm(ffast.frontend.observation_matrix, axis=0)**2/ffast.config.delays_nb)\n",
    "# plt.axhline(binprocessor.thresholds[0])\n",
    "# plt.xlabel('bin absolute index')\n",
    "# plt.show()"
   ]
  },
  {
   "cell_type": "code",
   "execution_count": null,
   "metadata": {},
   "outputs": [],
   "source": [
    "binprocessor.adjust_to(singleton_bin, singleton_bin, 0)"
   ]
  },
  {
   "cell_type": "code",
   "execution_count": null,
   "metadata": {},
   "outputs": [],
   "source": [
    "binprocessor.is_zeroton()"
   ]
  },
  {
   "cell_type": "code",
   "execution_count": null,
   "metadata": {},
   "outputs": [],
   "source": [
    "binprocessor.process()"
   ]
  },
  {
   "cell_type": "code",
   "execution_count": null,
   "metadata": {},
   "outputs": [],
   "source": [
    "# binprocessor.find_location_new()\n",
    "print(binprocessor.location)\n",
    "print(input_signal.freqs)"
   ]
  },
  {
   "cell_type": "code",
   "execution_count": null,
   "metadata": {},
   "outputs": [],
   "source": [
    "binprocessor.is_singleton()"
   ]
  },
  {
   "cell_type": "code",
   "execution_count": null,
   "metadata": {
    "scrolled": true
   },
   "outputs": [],
   "source": [
    "binprocessor.location"
   ]
  },
  {
   "cell_type": "code",
   "execution_count": null,
   "metadata": {},
   "outputs": [],
   "source": [
    "binprocessor.amplitude"
   ]
  },
  {
   "cell_type": "code",
   "execution_count": null,
   "metadata": {},
   "outputs": [],
   "source": [
    "binprocessor.noise"
   ]
  },
  {
   "cell_type": "code",
   "execution_count": null,
   "metadata": {},
   "outputs": [],
   "source": [
    "binprocessor.thresholds[0]"
   ]
  },
  {
   "cell_type": "code",
   "execution_count": null,
   "metadata": {},
   "outputs": [],
   "source": [
    "binprocessor.minimum_energy"
   ]
  },
  {
   "cell_type": "code",
   "execution_count": null,
   "metadata": {},
   "outputs": [],
   "source": [
    "ffast.backend.decoded_frequencies"
   ]
  },
  {
   "cell_type": "code",
   "execution_count": null,
   "metadata": {},
   "outputs": [],
   "source": [
    "output_signal.check_full_recovery()"
   ]
  },
  {
   "cell_type": "code",
   "execution_count": null,
   "metadata": {},
   "outputs": [],
   "source": [
    "output_signal.statistics()"
   ]
  },
  {
   "cell_type": "code",
   "execution_count": null,
   "metadata": {},
   "outputs": [],
   "source": [
    "ffast = FFAST(config, input_signal, output_signal)"
   ]
  },
  {
   "cell_type": "code",
   "execution_count": null,
   "metadata": {},
   "outputs": [],
   "source": [
    "input_signal.process() # ffast.get_delays() in the CPP code as an argument\n",
    "print(input_signal.freqs)"
   ]
  },
  {
   "cell_type": "code",
   "execution_count": null,
   "metadata": {
    "scrolled": true
   },
   "outputs": [],
   "source": [
    "ffast.process()"
   ]
  },
  {
   "cell_type": "code",
   "execution_count": null,
   "metadata": {},
   "outputs": [],
   "source": [
    "output_signal.process()"
   ]
  },
  {
   "cell_type": "code",
   "execution_count": null,
   "metadata": {},
   "outputs": [],
   "source": [
    "output_signal.statistics()"
   ]
  },
  {
   "cell_type": "code",
   "execution_count": null,
   "metadata": {},
   "outputs": [],
   "source": [
    "ffast.display_results(0)"
   ]
  },
  {
   "cell_type": "code",
   "execution_count": null,
   "metadata": {},
   "outputs": [],
   "source": []
  }
 ],
 "metadata": {
  "kernelspec": {
   "display_name": "Python 3",
   "language": "python",
   "name": "python3"
  },
  "language_info": {
   "codemirror_mode": {
    "name": "ipython",
    "version": 3
   },
   "file_extension": ".py",
   "mimetype": "text/x-python",
   "name": "python",
   "nbconvert_exporter": "python",
   "pygments_lexer": "ipython3",
   "version": "3.7.7"
  }
 },
 "nbformat": 4,
 "nbformat_minor": 2
}