{
 "cells": [
  {
   "cell_type": "markdown",
   "metadata": {},
   "source": [
    "# Aim\n",
    "\n",
    "Get FFAST working at a basic level (no noise, no window_var, etc.)."
   ]
  },
  {
   "cell_type": "code",
   "execution_count": 1,
   "metadata": {},
   "outputs": [],
   "source": [
    "%load_ext autoreload\n",
    "%autoreload 2\n",
    "\n",
    "from ffast_python import *\n",
    "from matplotlib import pyplot as plt\n",
    "import numpy as np\n",
    "import time\n",
    "\n",
    "from tqdm import tqdm_notebook as tqdm"
   ]
  },
  {
   "cell_type": "code",
   "execution_count": 2,
   "metadata": {},
   "outputs": [
    {
     "name": "stdout",
     "output_type": "stream",
     "text": [
      "[128, 243]\n",
      "14.92481250360578\n"
     ]
    }
   ],
   "source": [
    "params = make_args()\n",
    "\n",
    "params.primes = [2, 3]\n",
    "params.prime_powers = [7, 5]\n",
    "\n",
    "params.bins = [i**j for i,j in zip(params.primes, params.prime_powers)]\n",
    "print(params.bins)\n",
    "\n",
    "params.length = np.prod(params.bins)\n",
    "print(np.log2(params.length))\n",
    "\n",
    "params.iterations = 50\n",
    "# params.snr = 5 - 20*np.log10(13)\n",
    "params.snr = -25\n",
    "\n",
    "params.sparsity = 1\n",
    "\n",
    "# for ml\n",
    "# params.bin_processing_method = 'ml'\n",
    "# params.chains = 500\n",
    "# params.delays = 1\n",
    "\n",
    "# for kay\n",
    "# params.bin_processing_method = 'kay2'\n",
    "# params.chains = 14\n",
    "# params.delays = 9\n",
    "\n",
    "# for new\n",
    "params.bin_processing_method = 'new'\n",
    "params.chains = 1\n",
    "params.delays = 8\n",
    "\n",
    "\n",
    "\n",
    "config = Config(params)\n",
    "config.compute_params()\n",
    "\n",
    "input_signal = ExperimentInputSignal(config)\n",
    "input_signal.process()\n",
    "output_signal = ExperimentOutputSignal(config, input_signal)"
   ]
  },
  {
   "cell_type": "code",
   "execution_count": 3,
   "metadata": {},
   "outputs": [
    {
     "data": {
      "text/plain": [
       "316.22776601683796"
      ]
     },
     "execution_count": 3,
     "metadata": {},
     "output_type": "execute_result"
    }
   ],
   "source": [
    "config.get_noise_sd()**2"
   ]
  },
  {
   "cell_type": "code",
   "execution_count": 4,
   "metadata": {},
   "outputs": [],
   "source": [
    "# vars(config)"
   ]
  },
  {
   "cell_type": "code",
   "execution_count": 5,
   "metadata": {},
   "outputs": [
    {
     "name": "stdout",
     "output_type": "stream",
     "text": [
      "Running experiment mode (for now)\n",
      "Signal length: 31104\n",
      "Signal sparsity: 1\n",
      "Signal-to-noise ratio (dB): -25\n",
      "Random phase\n",
      "Delays: 8\n",
      "Bins: 128 243\n",
      "Bin processor: new\n"
     ]
    }
   ],
   "source": [
    "config.display()"
   ]
  },
  {
   "cell_type": "code",
   "execution_count": 6,
   "metadata": {},
   "outputs": [],
   "source": [
    "# plt.plot(np.real(input_signal.time_signal))\n",
    "# plt.plot(np.imag(input_signal.time_signal))\n",
    "# plt.show()"
   ]
  },
  {
   "cell_type": "code",
   "execution_count": 7,
   "metadata": {},
   "outputs": [],
   "source": [
    "# len(input_signal.time_signal)"
   ]
  },
  {
   "cell_type": "code",
   "execution_count": 8,
   "metadata": {},
   "outputs": [],
   "source": [
    "# signal_fft = np.fft.fft(input_signal.time_signal)\n",
    "# plt.plot(np.abs(signal_fft))\n",
    "# plt.title('loc: {}'.format(input_signal.freqs))\n",
    "# plt.show()"
   ]
  },
  {
   "cell_type": "code",
   "execution_count": 9,
   "metadata": {},
   "outputs": [],
   "source": [
    "# input_signal.time_signal *= 2 # demonstrating that the input signal can be changed"
   ]
  },
  {
   "cell_type": "code",
   "execution_count": 10,
   "metadata": {},
   "outputs": [],
   "source": [
    "ffast = FFAST(config, input_signal, output_signal)"
   ]
  },
  {
   "cell_type": "code",
   "execution_count": 11,
   "metadata": {
    "scrolled": true
   },
   "outputs": [
    {
     "name": "stdout",
     "output_type": "stream",
     "text": [
      "19312\n"
     ]
    }
   ],
   "source": [
    "ffast.frontend.process()\n",
    "print(ffast.frontend.get_used_samples_nb())"
   ]
  },
  {
   "cell_type": "code",
   "execution_count": 13,
   "metadata": {},
   "outputs": [
    {
     "data": {
      "text/plain": [
       "[128, 243]"
      ]
     },
     "execution_count": 13,
     "metadata": {},
     "output_type": "execute_result"
    }
   ],
   "source": [
    "params.bins"
   ]
  },
  {
   "cell_type": "code",
   "execution_count": 17,
   "metadata": {
    "scrolled": false
   },
   "outputs": [
    {
     "data": {
      "application/vnd.jupyter.widget-view+json": {
       "model_id": "5f2cbceffae8461badda63ad385fa7ae",
       "version_major": 2,
       "version_minor": 0
      },
      "text/plain": [
       "HBox(children=(IntProgress(value=0, max=50), HTML(value='')))"
      ]
     },
     "metadata": {},
     "output_type": "display_data"
    },
    {
     "name": "stdout",
     "output_type": "stream",
     "text": [
      "input freq: [8809]\n",
      "true singleton bins: [105, 61]\n",
      "found a singleton at 23170 -- stage 0 -- bin 2\n",
      "---\n",
      "input freq: [2275]\n",
      "true singleton bins: [99, 88]\n",
      "found a singleton at 15118 -- stage 0 -- bin 14\n",
      "---\n",
      "input freq: [18518]\n",
      "true singleton bins: [86, 50]\n",
      "found a singleton at 25360 -- stage 0 -- bin 16\n",
      "---\n",
      "input freq: [30090]\n",
      "true singleton bins: [10, 201]\n",
      "found a singleton at 29826 -- stage 0 -- bin 2\n",
      "---\n",
      "input freq: [24350]\n",
      "true singleton bins: [30, 50]\n",
      "found a singleton at 4481 -- stage 0 -- bin 1\n",
      "---\n",
      "input freq: [26732]\n",
      "true singleton bins: [108, 2]\n",
      "found a singleton at 26118 -- stage 0 -- bin 6\n",
      "---\n",
      "input freq: [23035]\n",
      "true singleton bins: [123, 193]\n",
      "found a singleton at 18050 -- stage 0 -- bin 2\n",
      "---\n",
      "input freq: [9912]\n",
      "true singleton bins: [56, 192]\n",
      "found a singleton at 22918 -- stage 0 -- bin 6\n",
      "---\n",
      "input freq: [30414]\n",
      "true singleton bins: [78, 39]\n",
      "found a singleton at 5889 -- stage 0 -- bin 1\n",
      "---\n",
      "input freq: [15814]\n",
      "true singleton bins: [70, 19]\n",
      "found a singleton at 10242 -- stage 0 -- bin 2\n",
      "---\n",
      "input freq: [21295]\n",
      "true singleton bins: [47, 154]\n",
      "found a singleton at 10245 -- stage 0 -- bin 5\n",
      "---\n",
      "input freq: [3061]\n",
      "true singleton bins: [117, 145]\n",
      "found a singleton at 25728 -- stage 0 -- bin 0\n",
      "---\n",
      "input freq: [6256]\n",
      "true singleton bins: [112, 181]\n",
      "found a singleton at 26767 -- stage 0 -- bin 15\n",
      "---\n",
      "input freq: [15520]\n",
      "true singleton bins: [32, 211]\n",
      "found a singleton at 9218 -- stage 0 -- bin 2\n",
      "---\n",
      "input freq: [30448]\n",
      "true singleton bins: [112, 73]\n",
      "found a singleton at 25472 -- stage 0 -- bin 0\n",
      "---\n",
      "input freq: [7270]\n",
      "true singleton bins: [102, 223]\n",
      "found a singleton at 19976 -- stage 0 -- bin 8\n",
      "---\n",
      "input freq: [4213]\n",
      "true singleton bins: [117, 82]\n",
      "found a singleton at 24456 -- stage 0 -- bin 8\n",
      "---\n",
      "input freq: [19868]\n",
      "true singleton bins: [28, 185]\n",
      "found a singleton at 13447 -- stage 0 -- bin 7\n",
      "---\n",
      "input freq: [30967]\n",
      "true singleton bins: [119, 106]\n",
      "found a singleton at 17538 -- stage 0 -- bin 2\n",
      "---\n",
      "input freq: [7343]\n",
      "true singleton bins: [47, 53]\n",
      "found a singleton at 1157 -- stage 0 -- bin 5\n",
      "---\n",
      "input freq: [19426]\n",
      "true singleton bins: [98, 229]\n",
      "found a singleton at 24204 -- stage 0 -- bin 12\n",
      "---\n",
      "input freq: [25969]\n",
      "true singleton bins: [113, 211]\n",
      "found a singleton at 1933 -- stage 0 -- bin 13\n",
      "---\n",
      "input freq: [23275]\n",
      "true singleton bins: [107, 190]\n",
      "found a singleton at 6401 -- stage 0 -- bin 1\n",
      "---\n",
      "input freq: [15344]\n",
      "true singleton bins: [112, 35]\n",
      "found a singleton at 1922 -- stage 0 -- bin 2\n",
      "---\n",
      "input freq: [15082]\n",
      "true singleton bins: [106, 16]\n",
      "found a singleton at 22784 -- stage 0 -- bin 0\n",
      "---\n",
      "input freq: [4147]\n",
      "true singleton bins: [51, 16]\n",
      "found a singleton at 27141 -- stage 0 -- bin 5\n",
      "---\n",
      "input freq: [11848]\n",
      "true singleton bins: [72, 184]\n",
      "found a singleton at 7564 -- stage 0 -- bin 12\n",
      "---\n",
      "input freq: [2970]\n",
      "true singleton bins: [26, 54]\n",
      "found a singleton at 18948 -- stage 0 -- bin 4\n",
      "---\n",
      "input freq: [17606]\n",
      "true singleton bins: [70, 110]\n",
      "found a singleton at 2946 -- stage 0 -- bin 2\n",
      "---\n",
      "input freq: [18925]\n",
      "true singleton bins: [109, 214]\n",
      "found a singleton at 18562 -- stage 0 -- bin 2\n",
      "---\n",
      "input freq: [20573]\n",
      "true singleton bins: [93, 161]\n",
      "found a singleton at 19331 -- stage 0 -- bin 3\n",
      "---\n",
      "input freq: [10609]\n",
      "true singleton bins: [113, 160]\n",
      "found a singleton at 7553 -- stage 0 -- bin 1\n",
      "---\n",
      "input freq: [29768]\n",
      "true singleton bins: [72, 122]\n",
      "found a singleton at 1664 -- stage 0 -- bin 0\n",
      "---\n",
      "input freq: [17770]\n",
      "true singleton bins: [106, 31]\n",
      "found a singleton at 25346 -- stage 0 -- bin 2\n",
      "---\n",
      "input freq: [717]\n",
      "true singleton bins: [77, 231]\n",
      "found a singleton at 10247 -- stage 0 -- bin 7\n",
      "---\n",
      "input freq: [17046]\n",
      "true singleton bins: [22, 36]\n",
      "found a singleton at 23815 -- stage 0 -- bin 7\n",
      "---\n",
      "input freq: [18493]\n",
      "true singleton bins: [61, 25]\n",
      "found a singleton at 4 -- stage 0 -- bin 4\n",
      "---\n",
      "input freq: [13047]\n",
      "true singleton bins: [119, 168]\n",
      "found a singleton at 28812 -- stage 0 -- bin 12\n",
      "---\n",
      "input freq: [12775]\n",
      "true singleton bins: [103, 139]\n",
      "found a singleton at 24971 -- stage 0 -- bin 11\n",
      "---\n",
      "input freq: [2361]\n",
      "true singleton bins: [57, 174]\n",
      "found a singleton at 13 -- stage 0 -- bin 13\n",
      "---\n",
      "input freq: [789]\n",
      "true singleton bins: [21, 60]\n",
      "found a singleton at 11525 -- stage 0 -- bin 5\n",
      "---\n",
      "input freq: [25053]\n",
      "true singleton bins: [93, 24]\n",
      "found a singleton at 8455 -- stage 0 -- bin 7\n",
      "---\n",
      "input freq: [18110]\n",
      "true singleton bins: [62, 128]\n",
      "found a singleton at 23682 -- stage 0 -- bin 2\n",
      "---\n",
      "input freq: [2627]\n",
      "true singleton bins: [67, 197]\n",
      "found a singleton at 11783 -- stage 0 -- bin 7\n",
      "---\n",
      "input freq: [23988]\n",
      "true singleton bins: [52, 174]\n",
      "found a singleton at 16779 -- stage 0 -- bin 11\n",
      "---\n",
      "input freq: [9745]\n",
      "true singleton bins: [17, 25]\n",
      "found a singleton at 22403 -- stage 0 -- bin 3\n",
      "---\n",
      "input freq: [25031]\n",
      "true singleton bins: [71, 2]\n",
      "found a singleton at 19328 -- stage 0 -- bin 0\n",
      "---\n",
      "input freq: [11596]\n",
      "true singleton bins: [76, 175]\n",
      "found a singleton at 256 -- stage 0 -- bin 0\n",
      "---\n",
      "input freq: [23684]\n",
      "true singleton bins: [4, 113]\n",
      "found a singleton at 770 -- stage 0 -- bin 2\n",
      "---\n",
      "input freq: [30884]\n",
      "true singleton bins: [36, 23]\n",
      "found a singleton at 4994 -- stage 0 -- bin 2\n",
      "---\n",
      "Running experiment mode (for now)\n",
      "Signal length: 31104\n",
      "Signal sparsity: 1\n",
      "Signal-to-noise ratio (dB): -25\n",
      "Random phase\n",
      "Delays: 8\n",
      "Bins: 128 243\n",
      "Bin processor: new\n",
      "<===== NUMBER OF SAMPLES =====>\n",
      "31104 -> used samples\n",
      "100.00% samples touched\n",
      "<===== AVERAGE TIME (in milliseconds) =====>\n",
      "Total time: 28457\n",
      "Time per iteration:  569\n"
     ]
    }
   ],
   "source": [
    "ffast = FFAST(config, input_signal, output_signal)\n",
    "\n",
    "if not config.help_displayed:\n",
    "    # this disregards the time to make the signal\n",
    "    time_initial = int(np.round(time.time() * 1000)) \n",
    "\n",
    "    iterations = config.iterations\n",
    "    \n",
    "    for i in tqdm(range(iterations)):\n",
    "        input_signal.process() # ffast.get_delays() in the CPP code as an argument\n",
    "        print('input freq: {}'.format(input_signal.freqs))\n",
    "        print('true singleton bins: {}'.format([input_signal.freqs[0] % int(i) for i in params.bins]))\n",
    "        ffast.process()\n",
    "        output_signal.process()\n",
    "        print('---')\n",
    "\n",
    "    time_final = int(np.round(time.time() * 1000))\n",
    "\n",
    "    ffast.display_results(time_final - time_initial)"
   ]
  },
  {
   "cell_type": "code",
   "execution_count": null,
   "metadata": {},
   "outputs": [],
   "source": [
    "output_signal.statistics()[0]/params.iterations"
   ]
  },
  {
   "cell_type": "code",
   "execution_count": null,
   "metadata": {},
   "outputs": [],
   "source": [
    "asdfasdf"
   ]
  },
  {
   "cell_type": "markdown",
   "metadata": {},
   "source": [
    "# this part is for debugging"
   ]
  },
  {
   "cell_type": "code",
   "execution_count": null,
   "metadata": {},
   "outputs": [],
   "source": [
    "vars(config)"
   ]
  },
  {
   "cell_type": "code",
   "execution_count": null,
   "metadata": {},
   "outputs": [],
   "source": [
    "input_signal.process() # ffast.get_delays() in the CPP code as an argument\n",
    "print(\"true frequencies: {}\".format(input_signal.freqs))\n",
    "\n",
    "ffast.frontend.process()\n",
    "# ffast.backend.process()\n",
    "# output_signal.process()"
   ]
  },
  {
   "cell_type": "code",
   "execution_count": null,
   "metadata": {
    "scrolled": true
   },
   "outputs": [],
   "source": [
    "# plt.stem(np.linalg.norm(ffast.frontend.observation_matrix, axis=0)**2/ffast.config.delays_nb)\n",
    "# plt.xlabel('bin absolute index')\n",
    "# plt.show()"
   ]
  },
  {
   "cell_type": "code",
   "execution_count": null,
   "metadata": {},
   "outputs": [],
   "source": [
    "singleton_bin = input_signal.freqs[0] % params.bins[0]"
   ]
  },
  {
   "cell_type": "code",
   "execution_count": null,
   "metadata": {},
   "outputs": [],
   "source": [
    "binprocessor = BinProcessor(config, ffast.frontend.delays, ffast.frontend.observation_matrix)"
   ]
  },
  {
   "cell_type": "code",
   "execution_count": null,
   "metadata": {},
   "outputs": [],
   "source": [
    "# plt.stem(np.linalg.norm(ffast.frontend.observation_matrix, axis=0)**2/ffast.config.delays_nb)\n",
    "# plt.axhline(binprocessor.thresholds[0])\n",
    "# plt.xlabel('bin absolute index')\n",
    "# plt.show()"
   ]
  },
  {
   "cell_type": "code",
   "execution_count": null,
   "metadata": {},
   "outputs": [],
   "source": [
    "binprocessor.adjust_to(singleton_bin, singleton_bin, 0)"
   ]
  },
  {
   "cell_type": "code",
   "execution_count": null,
   "metadata": {},
   "outputs": [],
   "source": [
    "binprocessor.is_zeroton()"
   ]
  },
  {
   "cell_type": "code",
   "execution_count": null,
   "metadata": {},
   "outputs": [],
   "source": [
    "binprocessor.process()"
   ]
  },
  {
   "cell_type": "code",
   "execution_count": null,
   "metadata": {},
   "outputs": [],
   "source": [
    "# binprocessor.find_location_new()\n",
    "print(binprocessor.location)\n",
    "print(input_signal.freqs)"
   ]
  },
  {
   "cell_type": "code",
   "execution_count": null,
   "metadata": {},
   "outputs": [],
   "source": [
    "binprocessor.is_singleton()"
   ]
  },
  {
   "cell_type": "code",
   "execution_count": null,
   "metadata": {
    "scrolled": true
   },
   "outputs": [],
   "source": [
    "binprocessor.location"
   ]
  },
  {
   "cell_type": "code",
   "execution_count": null,
   "metadata": {},
   "outputs": [],
   "source": [
    "binprocessor.amplitude"
   ]
  },
  {
   "cell_type": "code",
   "execution_count": null,
   "metadata": {},
   "outputs": [],
   "source": [
    "binprocessor.noise"
   ]
  },
  {
   "cell_type": "code",
   "execution_count": null,
   "metadata": {},
   "outputs": [],
   "source": [
    "binprocessor.thresholds[0]"
   ]
  },
  {
   "cell_type": "code",
   "execution_count": null,
   "metadata": {},
   "outputs": [],
   "source": [
    "binprocessor.minimum_energy"
   ]
  },
  {
   "cell_type": "code",
   "execution_count": null,
   "metadata": {},
   "outputs": [],
   "source": []
  },
  {
   "cell_type": "code",
   "execution_count": null,
   "metadata": {},
   "outputs": [],
   "source": [
    "ffast.backend.decoded_frequencies"
   ]
  },
  {
   "cell_type": "code",
   "execution_count": null,
   "metadata": {},
   "outputs": [],
   "source": [
    "output_signal.check_full_recovery()"
   ]
  },
  {
   "cell_type": "code",
   "execution_count": null,
   "metadata": {},
   "outputs": [],
   "source": [
    "output_signal.statistics()"
   ]
  },
  {
   "cell_type": "code",
   "execution_count": null,
   "metadata": {},
   "outputs": [],
   "source": [
    "ffast = FFAST(config, input_signal, output_signal)"
   ]
  },
  {
   "cell_type": "code",
   "execution_count": null,
   "metadata": {},
   "outputs": [],
   "source": [
    "input_signal.process() # ffast.get_delays() in the CPP code as an argument\n",
    "print(input_signal.freqs)"
   ]
  },
  {
   "cell_type": "code",
   "execution_count": null,
   "metadata": {
    "scrolled": true
   },
   "outputs": [],
   "source": [
    "ffast.process()"
   ]
  },
  {
   "cell_type": "code",
   "execution_count": null,
   "metadata": {},
   "outputs": [],
   "source": [
    "output_signal.process()"
   ]
  },
  {
   "cell_type": "code",
   "execution_count": null,
   "metadata": {},
   "outputs": [],
   "source": [
    "output_signal.statistics()"
   ]
  },
  {
   "cell_type": "code",
   "execution_count": null,
   "metadata": {},
   "outputs": [],
   "source": []
  },
  {
   "cell_type": "code",
   "execution_count": null,
   "metadata": {},
   "outputs": [],
   "source": []
  }
 ],
 "metadata": {
  "kernelspec": {
   "display_name": "Python 3",
   "language": "python",
   "name": "python3"
  },
  "language_info": {
   "codemirror_mode": {
    "name": "ipython",
    "version": 3
   },
   "file_extension": ".py",
   "mimetype": "text/x-python",
   "name": "python",
   "nbconvert_exporter": "python",
   "pygments_lexer": "ipython3",
   "version": "3.5.6"
  }
 },
 "nbformat": 4,
 "nbformat_minor": 2
}
