{
 "cells": [
  {
   "cell_type": "markdown",
   "metadata": {},
   "source": [
    "# Aim\n",
    "\n",
    "Get FFAST working at a basic level (no noise, no window_var, etc.).\n",
    "\n",
    "- for reasonably high-snr like around 5db (without the bin-length gain) look at kay vs. kay2 my guess is kay will fail but kay2 will keep working.  how much db can you go lower with kay2. is kay2 alway better?\n",
    "- how does all this compare to \"new\" method?\n",
    "- keep an eye on the total number of samples used by each method."
   ]
  },
  {
   "cell_type": "code",
   "execution_count": 1,
   "metadata": {},
   "outputs": [],
   "source": [
    "%load_ext autoreload\n",
    "%autoreload 2\n",
    "\n",
    "from ffast_python import *\n",
    "from matplotlib import pyplot as plt\n",
    "import numpy as np\n",
    "import time\n",
    "\n",
    "from tqdm import tqdm_notebook as tqdm"
   ]
  },
  {
   "cell_type": "code",
   "execution_count": 2,
   "metadata": {},
   "outputs": [
    {
     "name": "stdout",
     "output_type": "stream",
     "text": [
      "[128, 243]\n",
      "14.92481250360578\n"
     ]
    }
   ],
   "source": [
    "params = make_args()\n",
    "\n",
    "params.primes = [2, 3]\n",
    "params.prime_powers = [7, 5]\n",
    "\n",
    "params.bins = [i**j for i,j in zip(params.primes, params.prime_powers)]\n",
    "print(params.bins)\n",
    "\n",
    "params.length = np.prod(params.bins)\n",
    "print(np.log2(params.length))\n",
    "\n",
    "params.iterations = 50\n",
    "params.snr = 5 - 20*np.log10(max(params.bins))\n",
    "# params.snr = -26\n",
    "\n",
    "params.sparsity = 1\n",
    "\n",
    "# for ml\n",
    "# params.bin_processing_method = 'ml'\n",
    "# params.chains = 500\n",
    "# params.delays = 1\n",
    "\n",
    "# for kay\n",
    "# params.bin_processing_method = 'kay'\n",
    "# params.bin_processing_method = 'kay2'\n",
    "# params.chains = 14 # needs to be int(np.floor(np.log2(params.length))) [rounds down]\n",
    "# params.delays = 9 # parameter to play with\n",
    "\n",
    "# for new\n",
    "params.bin_processing_method = 'new'\n",
    "params.chains = 1 # this is set to 1 always\n",
    "params.delays = 8 # parameter to play with\n",
    "\n",
    "\n",
    "\n",
    "config = Config(params)\n",
    "config.compute_params()\n",
    "\n",
    "input_signal = ExperimentInputSignal(config)\n",
    "input_signal.process()\n",
    "output_signal = ExperimentOutputSignal(config, input_signal)"
   ]
  },
  {
   "cell_type": "code",
   "execution_count": 3,
   "metadata": {},
   "outputs": [
    {
     "data": {
      "text/plain": [
       "398.1071705534973"
      ]
     },
     "execution_count": 3,
     "metadata": {},
     "output_type": "execute_result"
    }
   ],
   "source": [
    "config.get_noise_sd()**2"
   ]
  },
  {
   "cell_type": "code",
   "execution_count": 4,
   "metadata": {},
   "outputs": [],
   "source": [
    "# vars(config)"
   ]
  },
  {
   "cell_type": "code",
   "execution_count": 5,
   "metadata": {},
   "outputs": [
    {
     "name": "stdout",
     "output_type": "stream",
     "text": [
      "Running experiment mode (for now)\n",
      "Signal length: 31104\n",
      "Signal sparsity: 1\n",
      "Signal-to-noise ratio (dB): -26\n",
      "Random phase\n",
      "Delays: 8\n",
      "Bins: 128 243\n",
      "Bin processor: new\n"
     ]
    }
   ],
   "source": [
    "config.display()"
   ]
  },
  {
   "cell_type": "code",
   "execution_count": 6,
   "metadata": {},
   "outputs": [],
   "source": [
    "# plt.plot(np.real(input_signal.time_signal))\n",
    "# plt.plot(np.imag(input_signal.time_signal))\n",
    "# plt.show()"
   ]
  },
  {
   "cell_type": "code",
   "execution_count": 7,
   "metadata": {},
   "outputs": [],
   "source": [
    "# len(input_signal.time_signal)"
   ]
  },
  {
   "cell_type": "code",
   "execution_count": 8,
   "metadata": {},
   "outputs": [],
   "source": [
    "# signal_fft = np.fft.fft(input_signal.time_signal)\n",
    "# plt.plot(np.abs(signal_fft))\n",
    "# plt.title('loc: {}'.format(input_signal.freqs))\n",
    "# plt.show()"
   ]
  },
  {
   "cell_type": "code",
   "execution_count": 9,
   "metadata": {},
   "outputs": [],
   "source": [
    "# input_signal.time_signal *= 2 # demonstrating that the input signal can be changed"
   ]
  },
  {
   "cell_type": "code",
   "execution_count": 10,
   "metadata": {},
   "outputs": [],
   "source": [
    "ffast = FFAST(config, input_signal, output_signal)"
   ]
  },
  {
   "cell_type": "code",
   "execution_count": 11,
   "metadata": {
    "scrolled": true
   },
   "outputs": [
    {
     "name": "stdout",
     "output_type": "stream",
     "text": [
      "21476\n"
     ]
    }
   ],
   "source": [
    "ffast.frontend.process()\n",
    "print(ffast.frontend.get_used_samples_nb())"
   ]
  },
  {
   "cell_type": "code",
   "execution_count": 12,
   "metadata": {},
   "outputs": [
    {
     "data": {
      "text/plain": [
       "[128, 243]"
      ]
     },
     "execution_count": 12,
     "metadata": {},
     "output_type": "execute_result"
    }
   ],
   "source": [
    "params.bins"
   ]
  },
  {
   "cell_type": "code",
   "execution_count": 13,
   "metadata": {
    "scrolled": false
   },
   "outputs": [
    {
     "data": {
      "application/vnd.jupyter.widget-view+json": {
       "model_id": "ec8e6ffc12474b3a9ebfb394b35ff3fb",
       "version_major": 2,
       "version_minor": 0
      },
      "text/plain": [
       "HBox(children=(IntProgress(value=0, max=50), HTML(value='')))"
      ]
     },
     "metadata": {},
     "output_type": "display_data"
    },
    {
     "name": "stdout",
     "output_type": "stream",
     "text": [
      "input freq: [26571]\n",
      "true singleton bins:\n",
      "    stage 0 bin 75\n",
      "    stage 1 bin 84\n",
      "found a singleton at 20356 -- stage 0 -- bin 4\n",
      "---\n",
      "input freq: [27531]\n",
      "true singleton bins:\n",
      "    stage 0 bin 11\n",
      "    stage 1 bin 72\n",
      "found a singleton at 8965 -- stage 0 -- bin 5\n",
      "---\n",
      "input freq: [20524]\n",
      "true singleton bins:\n",
      "    stage 0 bin 44\n",
      "    stage 1 bin 112\n",
      "found a singleton at 9609 -- stage 0 -- bin 9\n",
      "---\n",
      "input freq: [14809]\n",
      "true singleton bins:\n",
      "    stage 0 bin 89\n",
      "    stage 1 bin 229\n",
      "found a singleton at 18820 -- stage 0 -- bin 4\n",
      "---\n",
      "input freq: [30050]\n",
      "true singleton bins:\n",
      "    stage 0 bin 98\n",
      "    stage 1 bin 161\n",
      "found a singleton at 30602 -- stage 0 -- bin 10\n",
      "---\n",
      "\n"
     ]
    },
    {
     "ename": "KeyboardInterrupt",
     "evalue": "",
     "output_type": "error",
     "traceback": [
      "\u001b[0;31m------------------------------------------------------------------\u001b[0m",
      "\u001b[0;31mKeyboardInterrupt\u001b[0m                Traceback (most recent call last)",
      "\u001b[0;32m<ipython-input-13-1ffc36d654ff>\u001b[0m in \u001b[0;36m<module>\u001b[0;34m()\u001b[0m\n\u001b[1;32m      8\u001b[0m \u001b[0;34m\u001b[0m\u001b[0m\n\u001b[1;32m      9\u001b[0m     \u001b[0;32mfor\u001b[0m \u001b[0mi\u001b[0m \u001b[0;32min\u001b[0m \u001b[0mtqdm\u001b[0m\u001b[0;34m(\u001b[0m\u001b[0mrange\u001b[0m\u001b[0;34m(\u001b[0m\u001b[0miterations\u001b[0m\u001b[0;34m)\u001b[0m\u001b[0;34m)\u001b[0m\u001b[0;34m:\u001b[0m\u001b[0;34m\u001b[0m\u001b[0m\n\u001b[0;32m---> 10\u001b[0;31m         \u001b[0minput_signal\u001b[0m\u001b[0;34m.\u001b[0m\u001b[0mprocess\u001b[0m\u001b[0;34m(\u001b[0m\u001b[0;34m)\u001b[0m \u001b[0;31m# ffast.get_delays() in the CPP code as an argument\u001b[0m\u001b[0;34m\u001b[0m\u001b[0m\n\u001b[0m\u001b[1;32m     11\u001b[0m         \u001b[0mprint\u001b[0m\u001b[0;34m(\u001b[0m\u001b[0;34m'input freq: {}'\u001b[0m\u001b[0;34m.\u001b[0m\u001b[0mformat\u001b[0m\u001b[0;34m(\u001b[0m\u001b[0minput_signal\u001b[0m\u001b[0;34m.\u001b[0m\u001b[0mfreqs\u001b[0m\u001b[0;34m)\u001b[0m\u001b[0;34m)\u001b[0m\u001b[0;34m\u001b[0m\u001b[0m\n\u001b[1;32m     12\u001b[0m \u001b[0;34m\u001b[0m\u001b[0m\n",
      "\u001b[0;32m~/Documents/Berkeley/BASiCS/github/FFAST-python/ffast_python/input_signal.py\u001b[0m in \u001b[0;36mprocess\u001b[0;34m(self)\u001b[0m\n\u001b[1;32m     27\u001b[0m \u001b[0;34m\u001b[0m\u001b[0m\n\u001b[1;32m     28\u001b[0m         \u001b[0;32mif\u001b[0m \u001b[0mself\u001b[0m\u001b[0;34m.\u001b[0m\u001b[0mconfig\u001b[0m\u001b[0;34m.\u001b[0m\u001b[0mnoisy\u001b[0m\u001b[0;34m:\u001b[0m\u001b[0;34m\u001b[0m\u001b[0m\n\u001b[0;32m---> 29\u001b[0;31m             \u001b[0mself\u001b[0m\u001b[0;34m.\u001b[0m\u001b[0madd_noise\u001b[0m\u001b[0;34m(\u001b[0m\u001b[0;34m)\u001b[0m\u001b[0;34m\u001b[0m\u001b[0m\n\u001b[0m\u001b[1;32m     30\u001b[0m \u001b[0;34m\u001b[0m\u001b[0m\n\u001b[1;32m     31\u001b[0m         \u001b[0;31m# scaling the Fourier transform\u001b[0m\u001b[0;34m\u001b[0m\u001b[0;34m\u001b[0m\u001b[0m\n",
      "\u001b[0;32m~/Documents/Berkeley/BASiCS/github/FFAST-python/ffast_python/input_signal.py\u001b[0m in \u001b[0;36madd_noise\u001b[0;34m(self)\u001b[0m\n\u001b[1;32m     85\u001b[0m             \u001b[0mnoise_phase\u001b[0m \u001b[0;34m=\u001b[0m \u001b[0mnp\u001b[0m\u001b[0;34m.\u001b[0m\u001b[0mrandom\u001b[0m\u001b[0;34m.\u001b[0m\u001b[0muniform\u001b[0m\u001b[0;34m(\u001b[0m\u001b[0;36m0\u001b[0m\u001b[0;34m,\u001b[0m \u001b[0;36m2\u001b[0m \u001b[0;34m*\u001b[0m \u001b[0mnp\u001b[0m\u001b[0;34m.\u001b[0m\u001b[0mpi\u001b[0m\u001b[0;34m)\u001b[0m\u001b[0;34m\u001b[0m\u001b[0m\n\u001b[1;32m     86\u001b[0m             \u001b[0mnoise_power\u001b[0m \u001b[0;34m+=\u001b[0m \u001b[0mnoise_norm_factor\u001b[0m \u001b[0;31m# redundant?\u001b[0m\u001b[0;34m\u001b[0m\u001b[0m\n\u001b[0;32m---> 87\u001b[0;31m             \u001b[0mself\u001b[0m\u001b[0;34m.\u001b[0m\u001b[0mtime_signal\u001b[0m\u001b[0;34m[\u001b[0m\u001b[0mi\u001b[0m\u001b[0;34m]\u001b[0m \u001b[0;34m+=\u001b[0m \u001b[0mself\u001b[0m\u001b[0;34m.\u001b[0m\u001b[0mnoise_sd\u001b[0m \u001b[0;34m*\u001b[0m \u001b[0mnp\u001b[0m\u001b[0;34m.\u001b[0m\u001b[0msqrt\u001b[0m\u001b[0;34m(\u001b[0m\u001b[0mnoise_norm_factor\u001b[0m \u001b[0;34m/\u001b[0m \u001b[0;36m2\u001b[0m\u001b[0;34m)\u001b[0m \u001b[0;34m*\u001b[0m \u001b[0mnp\u001b[0m\u001b[0;34m.\u001b[0m\u001b[0mexp\u001b[0m\u001b[0;34m(\u001b[0m\u001b[0;36m1j\u001b[0m \u001b[0;34m*\u001b[0m \u001b[0mnoise_phase\u001b[0m\u001b[0;34m)\u001b[0m\u001b[0;34m\u001b[0m\u001b[0m\n\u001b[0m\u001b[1;32m     88\u001b[0m \u001b[0;34m\u001b[0m\u001b[0m\n\u001b[1;32m     89\u001b[0m         \u001b[0mself\u001b[0m\u001b[0;34m.\u001b[0m\u001b[0mnoise_power\u001b[0m \u001b[0;34m=\u001b[0m \u001b[0mnoise_power\u001b[0m \u001b[0;34m*\u001b[0m \u001b[0mself\u001b[0m\u001b[0;34m.\u001b[0m\u001b[0mnoise_sd\u001b[0m \u001b[0;34m**\u001b[0m \u001b[0;36m2\u001b[0m\u001b[0;34m\u001b[0m\u001b[0m\n",
      "\u001b[0;31mKeyboardInterrupt\u001b[0m: "
     ]
    }
   ],
   "source": [
    "ffast = FFAST(config, input_signal, output_signal)\n",
    "\n",
    "if not config.help_displayed:\n",
    "    # this disregards the time to make the signal\n",
    "    time_initial = int(np.round(time.time() * 1000)) \n",
    "\n",
    "    iterations = config.iterations\n",
    "    \n",
    "    for i in tqdm(range(iterations)):\n",
    "        input_signal.process() # ffast.get_delays() in the CPP code as an argument\n",
    "        print('input freq: {}'.format(input_signal.freqs))\n",
    "        \n",
    "        print('true singleton bins:')\n",
    "        for stage_idx, bin_size in enumerate(params.bins):\n",
    "            print('    stage {} bin {}'.format(stage_idx, input_signal.freqs[0] % bin_size))\n",
    "        \n",
    "        ffast.process()\n",
    "        output_signal.process()\n",
    "        print('---')\n",
    "\n",
    "    time_final = int(np.round(time.time() * 1000))\n",
    "\n",
    "    ffast.display_results(time_final - time_initial)"
   ]
  },
  {
   "cell_type": "code",
   "execution_count": null,
   "metadata": {},
   "outputs": [],
   "source": [
    "output_signal.statistics()[0]/params.iterations"
   ]
  },
  {
   "cell_type": "code",
   "execution_count": null,
   "metadata": {},
   "outputs": [],
   "source": [
    "asdfasdf"
   ]
  },
  {
   "cell_type": "markdown",
   "metadata": {},
   "source": [
    "# this part is for debugging"
   ]
  },
  {
   "cell_type": "code",
   "execution_count": 14,
   "metadata": {},
   "outputs": [
    {
     "data": {
      "text/plain": [
       "{'SNR_dB': -26,\n",
       " 'apply_window_var': False,\n",
       " 'bin_offsets': array([  0, 128]),\n",
       " 'bin_processing_method': 'new',\n",
       " 'bins': array([128, 243]),\n",
       " 'bins_sum': 371,\n",
       " 'chains_nb': 1,\n",
       " 'count_samples': True,\n",
       " 'default_delays': False,\n",
       " 'delays_nb': 8,\n",
       " 'delays_per_bunch_nb': 8,\n",
       " 'display_iteration_time': False,\n",
       " 'distribution': array([0., 1.]),\n",
       " 'eff_snr': 0.0025118864315095794,\n",
       " 'experiment_mode': False,\n",
       " 'help_displayed': False,\n",
       " 'input_file': '/Users/ocal/Library/Jupyter/runtime/kernel-5db4ada3-fa5b-43cd-ae64-d7daedab3b55.json',\n",
       " 'iterations': 50,\n",
       " 'length_factor': 1,\n",
       " 'max_SNR_dB': -26,\n",
       " 'maximum_likelihood': False,\n",
       " 'min_fourier_magnitude': 1,\n",
       " 'noisy': True,\n",
       " 'off_grid': False,\n",
       " 'off_grid_SNR_dB': 100,\n",
       " 'output_file': None,\n",
       " 'phases_nb': 0,\n",
       " 'prime_powers': array([7, 5]),\n",
       " 'primes': array([2, 3]),\n",
       " 'quantization_bits_nb': 0,\n",
       " 'quantize': False,\n",
       " 'reconstruct_signal_in_backend': False,\n",
       " 'signal_length': 31104,\n",
       " 'signal_length_original': 31104,\n",
       " 'signal_sparsity': 1,\n",
       " 'signal_sparsity_peeling': 1,\n",
       " 'verbose': False}"
      ]
     },
     "execution_count": 14,
     "metadata": {},
     "output_type": "execute_result"
    }
   ],
   "source": [
    "vars(config)"
   ]
  },
  {
   "cell_type": "code",
   "execution_count": 15,
   "metadata": {},
   "outputs": [
    {
     "name": "stdout",
     "output_type": "stream",
     "text": [
      "true frequencies: [4569]\n"
     ]
    }
   ],
   "source": [
    "input_signal.process() # ffast.get_delays() in the CPP code as an argument\n",
    "print(\"true frequencies: {}\".format(input_signal.freqs))\n",
    "\n",
    "ffast.frontend.process()\n",
    "# ffast.backend.process()\n",
    "# output_signal.process()"
   ]
  },
  {
   "cell_type": "code",
   "execution_count": 16,
   "metadata": {
    "scrolled": true
   },
   "outputs": [],
   "source": [
    "# plt.stem(np.linalg.norm(ffast.frontend.observation_matrix, axis=0)**2/ffast.config.delays_nb)\n",
    "# plt.xlabel('bin absolute index')\n",
    "# plt.show()"
   ]
  },
  {
   "cell_type": "code",
   "execution_count": 17,
   "metadata": {},
   "outputs": [
    {
     "name": "stdout",
     "output_type": "stream",
     "text": [
      "89\n"
     ]
    }
   ],
   "source": [
    "singleton_bin = input_signal.freqs[0] % params.bins[0]\n",
    "print(singleton_bin)"
   ]
  },
  {
   "cell_type": "code",
   "execution_count": 18,
   "metadata": {},
   "outputs": [],
   "source": [
    "binprocessor = BinProcessor(config, ffast.frontend.delays, ffast.frontend.observation_matrix)"
   ]
  },
  {
   "cell_type": "code",
   "execution_count": 19,
   "metadata": {},
   "outputs": [],
   "source": [
    "# plt.stem(np.linalg.norm(ffast.frontend.observation_matrix, axis=0)**2/ffast.config.delays_nb)\n",
    "# plt.axhline(binprocessor.thresholds[0])\n",
    "# plt.xlabel('bin absolute index')\n",
    "# plt.show()"
   ]
  },
  {
   "cell_type": "code",
   "execution_count": 20,
   "metadata": {},
   "outputs": [],
   "source": [
    "binprocessor.adjust_to(singleton_bin, singleton_bin, 0)"
   ]
  },
  {
   "cell_type": "code",
   "execution_count": 21,
   "metadata": {},
   "outputs": [
    {
     "name": "stdout",
     "output_type": "stream",
     "text": [
      "energy: 450.55424352124834\n",
      "threshold: 1592.4286822140893\n"
     ]
    },
    {
     "data": {
      "text/plain": [
       "True"
      ]
     },
     "execution_count": 21,
     "metadata": {},
     "output_type": "execute_result"
    }
   ],
   "source": [
    "binprocessor.is_zeroton()"
   ]
  },
  {
   "cell_type": "code",
   "execution_count": 22,
   "metadata": {},
   "outputs": [],
   "source": [
    "binprocessor.process()"
   ]
  },
  {
   "cell_type": "code",
   "execution_count": 23,
   "metadata": {},
   "outputs": [
    {
     "name": "stdout",
     "output_type": "stream",
     "text": [
      "4569\n",
      "[4569]\n"
     ]
    }
   ],
   "source": [
    "# binprocessor.find_location_new()\n",
    "print(binprocessor.location)\n",
    "print(input_signal.freqs)"
   ]
  },
  {
   "cell_type": "code",
   "execution_count": null,
   "metadata": {},
   "outputs": [],
   "source": [
    "binprocessor.is_singleton()"
   ]
  },
  {
   "cell_type": "code",
   "execution_count": null,
   "metadata": {
    "scrolled": true
   },
   "outputs": [],
   "source": [
    "binprocessor.location"
   ]
  },
  {
   "cell_type": "code",
   "execution_count": null,
   "metadata": {},
   "outputs": [],
   "source": [
    "binprocessor.amplitude"
   ]
  },
  {
   "cell_type": "code",
   "execution_count": null,
   "metadata": {},
   "outputs": [],
   "source": [
    "binprocessor.noise"
   ]
  },
  {
   "cell_type": "code",
   "execution_count": null,
   "metadata": {},
   "outputs": [],
   "source": [
    "binprocessor.thresholds[0]"
   ]
  },
  {
   "cell_type": "code",
   "execution_count": null,
   "metadata": {},
   "outputs": [],
   "source": [
    "binprocessor.minimum_energy"
   ]
  },
  {
   "cell_type": "code",
   "execution_count": null,
   "metadata": {},
   "outputs": [],
   "source": []
  },
  {
   "cell_type": "code",
   "execution_count": null,
   "metadata": {},
   "outputs": [],
   "source": [
    "ffast.backend.decoded_frequencies"
   ]
  },
  {
   "cell_type": "code",
   "execution_count": null,
   "metadata": {},
   "outputs": [],
   "source": [
    "output_signal.check_full_recovery()"
   ]
  },
  {
   "cell_type": "code",
   "execution_count": null,
   "metadata": {},
   "outputs": [],
   "source": [
    "output_signal.statistics()"
   ]
  },
  {
   "cell_type": "code",
   "execution_count": null,
   "metadata": {},
   "outputs": [],
   "source": [
    "ffast = FFAST(config, input_signal, output_signal)"
   ]
  },
  {
   "cell_type": "code",
   "execution_count": null,
   "metadata": {},
   "outputs": [],
   "source": [
    "input_signal.process() # ffast.get_delays() in the CPP code as an argument\n",
    "print(input_signal.freqs)"
   ]
  },
  {
   "cell_type": "code",
   "execution_count": null,
   "metadata": {
    "scrolled": true
   },
   "outputs": [],
   "source": [
    "ffast.process()"
   ]
  },
  {
   "cell_type": "code",
   "execution_count": null,
   "metadata": {},
   "outputs": [],
   "source": [
    "output_signal.process()"
   ]
  },
  {
   "cell_type": "code",
   "execution_count": null,
   "metadata": {},
   "outputs": [],
   "source": [
    "output_signal.statistics()"
   ]
  },
  {
   "cell_type": "code",
   "execution_count": null,
   "metadata": {},
   "outputs": [],
   "source": []
  },
  {
   "cell_type": "code",
   "execution_count": null,
   "metadata": {},
   "outputs": [],
   "source": []
  }
 ],
 "metadata": {
  "kernelspec": {
   "display_name": "Python 3",
   "language": "python",
   "name": "python3"
  },
  "language_info": {
   "codemirror_mode": {
    "name": "ipython",
    "version": 3
   },
   "file_extension": ".py",
   "mimetype": "text/x-python",
   "name": "python",
   "nbconvert_exporter": "python",
   "pygments_lexer": "ipython3",
   "version": "3.5.6"
  }
 },
 "nbformat": 4,
 "nbformat_minor": 2
}
