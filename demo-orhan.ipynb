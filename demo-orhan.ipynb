{
 "cells": [
  {
   "cell_type": "markdown",
   "metadata": {},
   "source": [
    "# Aim\n",
    "\n",
    "Get FFAST working at a basic level (no noise, no window_var, etc.)."
   ]
  },
  {
   "cell_type": "code",
   "execution_count": 1,
   "metadata": {},
   "outputs": [],
   "source": [
    "%load_ext autoreload\n",
    "%autoreload 2\n",
    "\n",
    "from ffast_python import *\n",
    "from matplotlib import pyplot as plt\n",
    "import numpy as np\n",
    "import time\n",
    "\n",
    "from tqdm import tqdm_notebook as tqdm"
   ]
  },
  {
   "cell_type": "code",
   "execution_count": 2,
   "metadata": {},
   "outputs": [
    {
     "name": "stdout",
     "output_type": "stream",
     "text": [
      "[128, 243]\n",
      "14.92481250360578\n"
     ]
    }
   ],
   "source": [
    "params = make_args()\n",
    "\n",
    "params.primes = [2, 3]\n",
    "params.prime_powers = [7, 5]\n",
    "\n",
    "params.bins = [i**j for i,j in zip(params.primes, params.prime_powers)]\n",
    "print(params.bins)\n",
    "\n",
    "params.length = np.prod(params.bins)\n",
    "print(np.log2(params.length))\n",
    "\n",
    "params.iterations = 50\n",
    "# params.snr = 5 - 20*np.log10(13)\n",
    "params.snr = -20\n",
    "\n",
    "params.sparsity = 1\n",
    "\n",
    "# for ml\n",
    "# params.bin_processing_method = 'ml'\n",
    "# params.chains = 500\n",
    "# params.delays = 1\n",
    "\n",
    "# for kay\n",
    "params.bin_processing_method = 'kay2'\n",
    "params.chains = 14\n",
    "params.delays = 9\n",
    "\n",
    "# for new\n",
    "# params.bin_processing_method = 'new'\n",
    "# params.chains = 1\n",
    "# params.delays = 8\n",
    "\n",
    "\n",
    "\n",
    "config = Config(params)\n",
    "config.compute_params()\n",
    "\n",
    "input_signal = ExperimentInputSignal(config)\n",
    "input_signal.process()\n",
    "output_signal = ExperimentOutputSignal(config, input_signal)"
   ]
  },
  {
   "cell_type": "code",
   "execution_count": 3,
   "metadata": {},
   "outputs": [
    {
     "data": {
      "text/plain": [
       "100.0"
      ]
     },
     "execution_count": 3,
     "metadata": {},
     "output_type": "execute_result"
    }
   ],
   "source": [
    "config.get_noise_sd()**2"
   ]
  },
  {
   "cell_type": "code",
   "execution_count": 4,
   "metadata": {},
   "outputs": [],
   "source": [
    "# vars(config)"
   ]
  },
  {
   "cell_type": "code",
   "execution_count": 5,
   "metadata": {},
   "outputs": [
    {
     "name": "stdout",
     "output_type": "stream",
     "text": [
      "Running experiment mode (for now)\n",
      "Signal length: 31104\n",
      "Signal sparsity: 1\n",
      "Signal-to-noise ratio (dB): -20\n",
      "Random phase\n",
      "Delays: 126\n",
      "Bins: 128 243\n",
      "Bin processor: kay2\n"
     ]
    }
   ],
   "source": [
    "config.display()"
   ]
  },
  {
   "cell_type": "code",
   "execution_count": 6,
   "metadata": {},
   "outputs": [],
   "source": [
    "# plt.plot(np.real(input_signal.time_signal))\n",
    "# plt.plot(np.imag(input_signal.time_signal))\n",
    "# plt.show()"
   ]
  },
  {
   "cell_type": "code",
   "execution_count": 7,
   "metadata": {},
   "outputs": [],
   "source": [
    "# len(input_signal.time_signal)"
   ]
  },
  {
   "cell_type": "code",
   "execution_count": 8,
   "metadata": {},
   "outputs": [],
   "source": [
    "# signal_fft = np.fft.fft(input_signal.time_signal)\n",
    "# plt.plot(np.abs(signal_fft))\n",
    "# plt.title('loc: {}'.format(input_signal.freqs))\n",
    "# plt.show()"
   ]
  },
  {
   "cell_type": "code",
   "execution_count": 9,
   "metadata": {},
   "outputs": [],
   "source": [
    "# input_signal.time_signal *= 2 # demonstrating that the input signal can be changed"
   ]
  },
  {
   "cell_type": "code",
   "execution_count": 10,
   "metadata": {},
   "outputs": [],
   "source": [
    "ffast = FFAST(config, input_signal, output_signal)"
   ]
  },
  {
   "cell_type": "code",
   "execution_count": 11,
   "metadata": {
    "scrolled": true
   },
   "outputs": [
    {
     "name": "stdout",
     "output_type": "stream",
     "text": [
      "19491\n"
     ]
    }
   ],
   "source": [
    "ffast.frontend.process()\n",
    "print(ffast.frontend.get_used_samples_nb())"
   ]
  },
  {
   "cell_type": "code",
   "execution_count": 12,
   "metadata": {},
   "outputs": [
    {
     "data": {
      "text/plain": [
       "[128, 243]"
      ]
     },
     "execution_count": 12,
     "metadata": {},
     "output_type": "execute_result"
    }
   ],
   "source": [
    "params.bins"
   ]
  },
  {
   "cell_type": "code",
   "execution_count": 14,
   "metadata": {
    "scrolled": false
   },
   "outputs": [
    {
     "data": {
      "application/vnd.jupyter.widget-view+json": {
       "model_id": "b26efeabb9924a16b4cc83544bee3b5a",
       "version_major": 2,
       "version_minor": 0
      },
      "text/plain": [
       "HBox(children=(IntProgress(value=0, max=50), HTML(value='')))"
      ]
     },
     "metadata": {},
     "output_type": "display_data"
    },
    {
     "name": "stdout",
     "output_type": "stream",
     "text": [
      "input freq: [23753]\n",
      "true singleton bins:\n",
      "    stage 0 bin 73\n",
      "    stage 1 bin 182\n",
      "found a singleton at 23753 -- stage 1 -- bin 182\n",
      "---\n",
      "input freq: [21552]\n",
      "true singleton bins:\n",
      "    stage 0 bin 48\n",
      "    stage 1 bin 168\n",
      "found a singleton at 21552 -- stage 0 -- bin 48\n",
      "---\n",
      "input freq: [5139]\n",
      "true singleton bins:\n",
      "    stage 0 bin 19\n",
      "    stage 1 bin 36\n",
      "found a singleton at 5139 -- stage 0 -- bin 19\n",
      "---\n",
      "input freq: [27716]\n",
      "true singleton bins:\n",
      "    stage 0 bin 68\n",
      "    stage 1 bin 14\n",
      "found a singleton at 27716 -- stage 0 -- bin 68\n",
      "---\n",
      "input freq: [11891]\n",
      "true singleton bins:\n",
      "    stage 0 bin 115\n",
      "    stage 1 bin 227\n",
      "found a singleton at 11891 -- stage 1 -- bin 227\n",
      "---\n",
      "input freq: [19218]\n",
      "true singleton bins:\n",
      "    stage 0 bin 18\n",
      "    stage 1 bin 21\n",
      "found a singleton at 19218 -- stage 0 -- bin 18\n",
      "---\n",
      "input freq: [19968]\n",
      "true singleton bins:\n",
      "    stage 0 bin 0\n",
      "    stage 1 bin 42\n",
      "found a singleton at 19968 -- stage 1 -- bin 42\n",
      "---\n",
      "input freq: [3133]\n",
      "true singleton bins:\n",
      "    stage 0 bin 61\n",
      "    stage 1 bin 217\n",
      "found a singleton at 3133 -- stage 1 -- bin 217\n",
      "---\n",
      "input freq: [25386]\n",
      "true singleton bins:\n",
      "    stage 0 bin 42\n",
      "    stage 1 bin 114\n",
      "found a singleton at 25386 -- stage 1 -- bin 114\n",
      "---\n",
      "input freq: [30188]\n",
      "true singleton bins:\n",
      "    stage 0 bin 108\n",
      "    stage 1 bin 56\n",
      "found a singleton at 30188 -- stage 0 -- bin 108\n",
      "---\n",
      "input freq: [12232]\n",
      "true singleton bins:\n",
      "    stage 0 bin 72\n",
      "    stage 1 bin 82\n",
      "found a singleton at 12232 -- stage 0 -- bin 72\n",
      "---\n",
      "input freq: [22717]\n",
      "true singleton bins:\n",
      "    stage 0 bin 61\n",
      "    stage 1 bin 118\n",
      "found a singleton at 22717 -- stage 0 -- bin 61\n",
      "---\n",
      "input freq: [25725]\n",
      "true singleton bins:\n",
      "    stage 0 bin 125\n",
      "    stage 1 bin 210\n",
      "found a singleton at 25725 -- stage 1 -- bin 210\n",
      "---\n",
      "input freq: [18839]\n",
      "true singleton bins:\n",
      "    stage 0 bin 23\n",
      "    stage 1 bin 128\n",
      "found a singleton at 18839 -- stage 0 -- bin 23\n",
      "---\n",
      "input freq: [29320]\n",
      "true singleton bins:\n",
      "    stage 0 bin 8\n",
      "    stage 1 bin 160\n",
      "found a singleton at 29320 -- stage 0 -- bin 8\n",
      "---\n",
      "input freq: [21008]\n",
      "true singleton bins:\n",
      "    stage 0 bin 16\n",
      "    stage 1 bin 110\n",
      "found a singleton at 21008 -- stage 0 -- bin 16\n",
      "---\n",
      "input freq: [16987]\n",
      "true singleton bins:\n",
      "    stage 0 bin 91\n",
      "    stage 1 bin 220\n",
      "found a singleton at 16987 -- stage 0 -- bin 91\n",
      "---\n",
      "input freq: [996]\n",
      "true singleton bins:\n",
      "    stage 0 bin 100\n",
      "    stage 1 bin 24\n",
      "found a singleton at 996 -- stage 0 -- bin 100\n",
      "---\n",
      "input freq: [14176]\n",
      "true singleton bins:\n",
      "    stage 0 bin 96\n",
      "    stage 1 bin 82\n",
      "found a singleton at 14176 -- stage 0 -- bin 96\n",
      "---\n",
      "input freq: [17032]\n",
      "true singleton bins:\n",
      "    stage 0 bin 8\n",
      "    stage 1 bin 22\n",
      "found a singleton at 17032 -- stage 0 -- bin 8\n",
      "---\n",
      "input freq: [6996]\n",
      "true singleton bins:\n",
      "    stage 0 bin 84\n",
      "    stage 1 bin 192\n",
      "found a singleton at 6996 -- stage 0 -- bin 84\n",
      "---\n",
      "input freq: [24819]\n",
      "true singleton bins:\n",
      "    stage 0 bin 115\n",
      "    stage 1 bin 33\n",
      "found a singleton at 24819 -- stage 0 -- bin 115\n",
      "---\n",
      "input freq: [23419]\n",
      "true singleton bins:\n",
      "    stage 0 bin 123\n",
      "    stage 1 bin 91\n",
      "found a singleton at 23419 -- stage 0 -- bin 123\n",
      "---\n",
      "input freq: [2640]\n",
      "true singleton bins:\n",
      "    stage 0 bin 80\n",
      "    stage 1 bin 210\n",
      "found a singleton at 2640 -- stage 1 -- bin 210\n",
      "---\n",
      "input freq: [29975]\n",
      "true singleton bins:\n",
      "    stage 0 bin 23\n",
      "    stage 1 bin 86\n",
      "found a singleton at 29975 -- stage 0 -- bin 23\n",
      "---\n",
      "input freq: [22376]\n",
      "true singleton bins:\n",
      "    stage 0 bin 104\n",
      "    stage 1 bin 20\n",
      "found a singleton at 22376 -- stage 1 -- bin 20\n",
      "---\n",
      "input freq: [17021]\n",
      "true singleton bins:\n",
      "    stage 0 bin 125\n",
      "    stage 1 bin 11\n",
      "found a singleton at 17021 -- stage 0 -- bin 125\n",
      "---\n",
      "input freq: [9191]\n",
      "true singleton bins:\n",
      "    stage 0 bin 103\n",
      "    stage 1 bin 200\n",
      "found a singleton at 9191 -- stage 0 -- bin 103\n",
      "---\n",
      "input freq: [30936]\n",
      "true singleton bins:\n",
      "    stage 0 bin 88\n",
      "    stage 1 bin 75\n",
      "found a singleton at 30936 -- stage 0 -- bin 88\n",
      "---\n",
      "input freq: [30119]\n",
      "true singleton bins:\n",
      "    stage 0 bin 39\n",
      "    stage 1 bin 230\n",
      "found a singleton at 30119 -- stage 0 -- bin 39\n",
      "---\n",
      "input freq: [11362]\n",
      "true singleton bins:\n",
      "    stage 0 bin 98\n",
      "    stage 1 bin 184\n",
      "found a singleton at 11362 -- stage 1 -- bin 184\n",
      "---\n",
      "input freq: [18040]\n",
      "true singleton bins:\n",
      "    stage 0 bin 120\n",
      "    stage 1 bin 58\n",
      "found a singleton at 18040 -- stage 0 -- bin 120\n",
      "---\n",
      "input freq: [13713]\n",
      "true singleton bins:\n",
      "    stage 0 bin 17\n",
      "    stage 1 bin 105\n",
      "found a singleton at 13713 -- stage 0 -- bin 17\n",
      "---\n",
      "input freq: [23857]\n",
      "true singleton bins:\n",
      "    stage 0 bin 49\n",
      "    stage 1 bin 43\n",
      "found a singleton at 23857 -- stage 0 -- bin 49\n",
      "---\n",
      "input freq: [12532]\n",
      "true singleton bins:\n",
      "    stage 0 bin 116\n",
      "    stage 1 bin 139\n",
      "---\n",
      "input freq: [4389]\n",
      "true singleton bins:\n",
      "    stage 0 bin 37\n",
      "    stage 1 bin 15\n",
      "found a singleton at 4389 -- stage 1 -- bin 15\n",
      "---\n",
      "input freq: [25065]\n",
      "true singleton bins:\n",
      "    stage 0 bin 105\n",
      "    stage 1 bin 36\n",
      "found a singleton at 25065 -- stage 1 -- bin 36\n",
      "---\n",
      "input freq: [25508]\n",
      "true singleton bins:\n",
      "    stage 0 bin 36\n",
      "    stage 1 bin 236\n",
      "found a singleton at 25508 -- stage 0 -- bin 36\n",
      "---\n",
      "input freq: [10513]\n",
      "true singleton bins:\n",
      "    stage 0 bin 17\n",
      "    stage 1 bin 64\n",
      "found a singleton at 10513 -- stage 0 -- bin 17\n",
      "---\n",
      "input freq: [11934]\n",
      "true singleton bins:\n",
      "    stage 0 bin 30\n",
      "    stage 1 bin 27\n",
      "found a singleton at 11934 -- stage 0 -- bin 30\n",
      "---\n",
      "input freq: [8235]\n",
      "true singleton bins:\n",
      "    stage 0 bin 43\n",
      "    stage 1 bin 216\n",
      "found a singleton at 8235 -- stage 0 -- bin 43\n",
      "---\n",
      "input freq: [6261]\n",
      "true singleton bins:\n",
      "    stage 0 bin 117\n",
      "    stage 1 bin 186\n",
      "found a singleton at 6261 -- stage 0 -- bin 117\n",
      "---\n",
      "input freq: [12786]\n",
      "true singleton bins:\n",
      "    stage 0 bin 114\n",
      "    stage 1 bin 150\n",
      "found a singleton at 12786 -- stage 0 -- bin 114\n",
      "---\n",
      "input freq: [18093]\n",
      "true singleton bins:\n",
      "    stage 0 bin 45\n",
      "    stage 1 bin 111\n",
      "found a singleton at 18093 -- stage 1 -- bin 111\n",
      "---\n",
      "input freq: [23497]\n",
      "true singleton bins:\n",
      "    stage 0 bin 73\n",
      "    stage 1 bin 169\n",
      "found a singleton at 23497 -- stage 0 -- bin 73\n",
      "---\n",
      "input freq: [27850]\n",
      "true singleton bins:\n",
      "    stage 0 bin 74\n",
      "    stage 1 bin 148\n",
      "found a singleton at 27850 -- stage 1 -- bin 148\n",
      "---\n",
      "input freq: [2142]\n",
      "true singleton bins:\n",
      "    stage 0 bin 94\n",
      "    stage 1 bin 198\n",
      "found a singleton at 2142 -- stage 1 -- bin 198\n",
      "---\n",
      "input freq: [16083]\n",
      "true singleton bins:\n",
      "    stage 0 bin 83\n",
      "    stage 1 bin 45\n",
      "found a singleton at 16083 -- stage 0 -- bin 83\n",
      "---\n",
      "input freq: [10287]\n",
      "true singleton bins:\n",
      "    stage 0 bin 47\n",
      "    stage 1 bin 81\n",
      "found a singleton at 10287 -- stage 0 -- bin 47\n",
      "---\n",
      "input freq: [11616]\n",
      "true singleton bins:\n",
      "    stage 0 bin 96\n",
      "    stage 1 bin 195\n",
      "found a singleton at 11616 -- stage 0 -- bin 96\n",
      "---\n",
      "\n",
      "Running experiment mode (for now)\n",
      "Signal length: 31104\n",
      "Signal sparsity: 1\n",
      "Signal-to-noise ratio (dB): -20\n",
      "Random phase\n",
      "Delays: 126\n",
      "Bins: 128 243\n",
      "Bin processor: kay2\n",
      "<===== NUMBER OF SAMPLES =====>\n",
      "31104 -> used samples\n",
      "100.00% samples touched\n",
      "<===== AVERAGE TIME (in milliseconds) =====>\n",
      "Total time: 53681\n",
      "Time per iteration:  1073\n"
     ]
    }
   ],
   "source": [
    "ffast = FFAST(config, input_signal, output_signal)\n",
    "\n",
    "if not config.help_displayed:\n",
    "    # this disregards the time to make the signal\n",
    "    time_initial = int(np.round(time.time() * 1000)) \n",
    "\n",
    "    iterations = config.iterations\n",
    "    \n",
    "    for i in tqdm(range(iterations)):\n",
    "        input_signal.process() # ffast.get_delays() in the CPP code as an argument\n",
    "        print('input freq: {}'.format(input_signal.freqs))\n",
    "        \n",
    "        print('true singleton bins:')\n",
    "        for stage_idx, bin_size in enumerate(params.bins):\n",
    "            print('    stage {} bin {}'.format(stage_idx, input_signal.freqs[0] % bin_size))\n",
    "        \n",
    "        ffast.process()\n",
    "        output_signal.process()\n",
    "        print('---')\n",
    "\n",
    "    time_final = int(np.round(time.time() * 1000))\n",
    "\n",
    "    ffast.display_results(time_final - time_initial)"
   ]
  },
  {
   "cell_type": "code",
   "execution_count": null,
   "metadata": {},
   "outputs": [],
   "source": [
    "output_signal.statistics()[0]/params.iterations"
   ]
  },
  {
   "cell_type": "code",
   "execution_count": null,
   "metadata": {},
   "outputs": [],
   "source": [
    "asdfasdf"
   ]
  },
  {
   "cell_type": "markdown",
   "metadata": {},
   "source": [
    "# this part is for debugging"
   ]
  },
  {
   "cell_type": "code",
   "execution_count": null,
   "metadata": {},
   "outputs": [],
   "source": [
    "vars(config)"
   ]
  },
  {
   "cell_type": "code",
   "execution_count": null,
   "metadata": {},
   "outputs": [],
   "source": [
    "input_signal.process() # ffast.get_delays() in the CPP code as an argument\n",
    "print(\"true frequencies: {}\".format(input_signal.freqs))\n",
    "\n",
    "ffast.frontend.process()\n",
    "# ffast.backend.process()\n",
    "# output_signal.process()"
   ]
  },
  {
   "cell_type": "code",
   "execution_count": null,
   "metadata": {
    "scrolled": true
   },
   "outputs": [],
   "source": [
    "# plt.stem(np.linalg.norm(ffast.frontend.observation_matrix, axis=0)**2/ffast.config.delays_nb)\n",
    "# plt.xlabel('bin absolute index')\n",
    "# plt.show()"
   ]
  },
  {
   "cell_type": "code",
   "execution_count": null,
   "metadata": {},
   "outputs": [],
   "source": [
    "singleton_bin = input_signal.freqs[0] % params.bins[0]"
   ]
  },
  {
   "cell_type": "code",
   "execution_count": null,
   "metadata": {},
   "outputs": [],
   "source": [
    "binprocessor = BinProcessor(config, ffast.frontend.delays, ffast.frontend.observation_matrix)"
   ]
  },
  {
   "cell_type": "code",
   "execution_count": null,
   "metadata": {},
   "outputs": [],
   "source": [
    "# plt.stem(np.linalg.norm(ffast.frontend.observation_matrix, axis=0)**2/ffast.config.delays_nb)\n",
    "# plt.axhline(binprocessor.thresholds[0])\n",
    "# plt.xlabel('bin absolute index')\n",
    "# plt.show()"
   ]
  },
  {
   "cell_type": "code",
   "execution_count": null,
   "metadata": {},
   "outputs": [],
   "source": [
    "binprocessor.adjust_to(singleton_bin, singleton_bin, 0)"
   ]
  },
  {
   "cell_type": "code",
   "execution_count": null,
   "metadata": {},
   "outputs": [],
   "source": [
    "binprocessor.is_zeroton()"
   ]
  },
  {
   "cell_type": "code",
   "execution_count": null,
   "metadata": {},
   "outputs": [],
   "source": [
    "binprocessor.process()"
   ]
  },
  {
   "cell_type": "code",
   "execution_count": null,
   "metadata": {},
   "outputs": [],
   "source": [
    "# binprocessor.find_location_new()\n",
    "print(binprocessor.location)\n",
    "print(input_signal.freqs)"
   ]
  },
  {
   "cell_type": "code",
   "execution_count": null,
   "metadata": {},
   "outputs": [],
   "source": [
    "binprocessor.is_singleton()"
   ]
  },
  {
   "cell_type": "code",
   "execution_count": null,
   "metadata": {
    "scrolled": true
   },
   "outputs": [],
   "source": [
    "binprocessor.location"
   ]
  },
  {
   "cell_type": "code",
   "execution_count": null,
   "metadata": {},
   "outputs": [],
   "source": [
    "binprocessor.amplitude"
   ]
  },
  {
   "cell_type": "code",
   "execution_count": null,
   "metadata": {},
   "outputs": [],
   "source": [
    "binprocessor.noise"
   ]
  },
  {
   "cell_type": "code",
   "execution_count": null,
   "metadata": {},
   "outputs": [],
   "source": [
    "binprocessor.thresholds[0]"
   ]
  },
  {
   "cell_type": "code",
   "execution_count": null,
   "metadata": {},
   "outputs": [],
   "source": [
    "binprocessor.minimum_energy"
   ]
  },
  {
   "cell_type": "code",
   "execution_count": null,
   "metadata": {},
   "outputs": [],
   "source": []
  },
  {
   "cell_type": "code",
   "execution_count": null,
   "metadata": {},
   "outputs": [],
   "source": [
    "ffast.backend.decoded_frequencies"
   ]
  },
  {
   "cell_type": "code",
   "execution_count": null,
   "metadata": {},
   "outputs": [],
   "source": [
    "output_signal.check_full_recovery()"
   ]
  },
  {
   "cell_type": "code",
   "execution_count": null,
   "metadata": {},
   "outputs": [],
   "source": [
    "output_signal.statistics()"
   ]
  },
  {
   "cell_type": "code",
   "execution_count": null,
   "metadata": {},
   "outputs": [],
   "source": [
    "ffast = FFAST(config, input_signal, output_signal)"
   ]
  },
  {
   "cell_type": "code",
   "execution_count": null,
   "metadata": {},
   "outputs": [],
   "source": [
    "input_signal.process() # ffast.get_delays() in the CPP code as an argument\n",
    "print(input_signal.freqs)"
   ]
  },
  {
   "cell_type": "code",
   "execution_count": null,
   "metadata": {
    "scrolled": true
   },
   "outputs": [],
   "source": [
    "ffast.process()"
   ]
  },
  {
   "cell_type": "code",
   "execution_count": null,
   "metadata": {},
   "outputs": [],
   "source": [
    "output_signal.process()"
   ]
  },
  {
   "cell_type": "code",
   "execution_count": null,
   "metadata": {},
   "outputs": [],
   "source": [
    "output_signal.statistics()"
   ]
  },
  {
   "cell_type": "code",
   "execution_count": null,
   "metadata": {},
   "outputs": [],
   "source": []
  },
  {
   "cell_type": "code",
   "execution_count": null,
   "metadata": {},
   "outputs": [],
   "source": []
  }
 ],
 "metadata": {
  "kernelspec": {
   "display_name": "Python 3",
   "language": "python",
   "name": "python3"
  },
  "language_info": {
   "codemirror_mode": {
    "name": "ipython",
    "version": 3
   },
   "file_extension": ".py",
   "mimetype": "text/x-python",
   "name": "python",
   "nbconvert_exporter": "python",
   "pygments_lexer": "ipython3",
   "version": "3.5.6"
  }
 },
 "nbformat": 4,
 "nbformat_minor": 2
}
